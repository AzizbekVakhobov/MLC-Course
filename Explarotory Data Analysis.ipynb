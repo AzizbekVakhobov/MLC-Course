{
 "cells": [
  {
   "cell_type": "markdown",
   "id": "347be34b-66a9-4948-8114-80826a48793a",
   "metadata": {
    "jp-MarkdownHeadingCollapsed": true
   },
   "source": [
    "<h1>Wrangling and Analyzing Data</h1>\n",
    "<h2>MOVIES DATASET FOR FEATURE EXTRACION ,PREDICTION</h2>\n",
    "<h4>About Dataset</h4>\n",
    "The data is succesfully scrapped from imdb top netflix movies and tvshows.\n",
    "<br><a href=\"https://www.kaggle.com/datasets/bharatnatrayn/movies-dataset-for-feature-extracion-prediction\">Link to datasets from Kaggle</a>"
   ]
  },
  {
   "cell_type": "markdown",
   "id": "19981395-c6de-4620-b265-5153b2b5f1b0",
   "metadata": {},
   "source": [
    "<h2>Data Gathering</h2>\n",
    "Directly download dataset(movies.csv)"
   ]
  },
  {
   "cell_type": "code",
   "execution_count": 94,
   "id": "02b4371d-726e-4297-a52f-900f7acde05f",
   "metadata": {},
   "outputs": [],
   "source": [
    "import pandas as pd\n",
    "import numpy as np"
   ]
  },
  {
   "cell_type": "code",
   "execution_count": 6,
   "id": "bb5adb31-8ea5-4027-9de9-7435139ae696",
   "metadata": {},
   "outputs": [],
   "source": [
    "movies_df = pd.read_csv(\"movies.csv\")"
   ]
  },
  {
   "cell_type": "markdown",
   "id": "4016f164-e97b-4ac4-bca2-ed3a8ae3be11",
   "metadata": {
    "jp-MarkdownHeadingCollapsed": true
   },
   "source": [
    "<h2>Assessing Data</h2>"
   ]
  },
  {
   "cell_type": "code",
   "execution_count": 67,
   "id": "5e0221b8-6026-400b-b8f9-d5921f340b7e",
   "metadata": {},
   "outputs": [
    {
     "data": {
      "text/html": [
       "<div>\n",
       "<style scoped>\n",
       "    .dataframe tbody tr th:only-of-type {\n",
       "        vertical-align: middle;\n",
       "    }\n",
       "\n",
       "    .dataframe tbody tr th {\n",
       "        vertical-align: top;\n",
       "    }\n",
       "\n",
       "    .dataframe thead th {\n",
       "        text-align: right;\n",
       "    }\n",
       "</style>\n",
       "<table border=\"1\" class=\"dataframe\">\n",
       "  <thead>\n",
       "    <tr style=\"text-align: right;\">\n",
       "      <th></th>\n",
       "      <th>MOVIES</th>\n",
       "      <th>YEAR</th>\n",
       "      <th>GENRE</th>\n",
       "      <th>RATING</th>\n",
       "      <th>ONE-LINE</th>\n",
       "      <th>STARS</th>\n",
       "      <th>VOTES</th>\n",
       "      <th>RunTime</th>\n",
       "      <th>Gross</th>\n",
       "    </tr>\n",
       "  </thead>\n",
       "  <tbody>\n",
       "    <tr>\n",
       "      <th>0</th>\n",
       "      <td>Blood Red Sky</td>\n",
       "      <td>(2021)</td>\n",
       "      <td>\\nAction, Horror, Thriller</td>\n",
       "      <td>6.1</td>\n",
       "      <td>\\nA woman with a mysterious illness is forced ...</td>\n",
       "      <td>\\n    Director:\\nPeter Thorwarth\\n| \\n    Star...</td>\n",
       "      <td>21,062</td>\n",
       "      <td>121.0</td>\n",
       "      <td>NaN</td>\n",
       "    </tr>\n",
       "    <tr>\n",
       "      <th>1</th>\n",
       "      <td>Masters of the Universe: Revelation</td>\n",
       "      <td>(2021– )</td>\n",
       "      <td>\\nAnimation, Action, Adventure</td>\n",
       "      <td>5.0</td>\n",
       "      <td>\\nThe war for Eternia begins again in what may...</td>\n",
       "      <td>\\n            \\n    Stars:\\nChris Wood, \\nSara...</td>\n",
       "      <td>17,870</td>\n",
       "      <td>25.0</td>\n",
       "      <td>NaN</td>\n",
       "    </tr>\n",
       "    <tr>\n",
       "      <th>2</th>\n",
       "      <td>The Walking Dead</td>\n",
       "      <td>(2010–2022)</td>\n",
       "      <td>\\nDrama, Horror, Thriller</td>\n",
       "      <td>8.2</td>\n",
       "      <td>\\nSheriff Deputy Rick Grimes wakes up from a c...</td>\n",
       "      <td>\\n            \\n    Stars:\\nAndrew Lincoln, \\n...</td>\n",
       "      <td>885,805</td>\n",
       "      <td>44.0</td>\n",
       "      <td>NaN</td>\n",
       "    </tr>\n",
       "    <tr>\n",
       "      <th>3</th>\n",
       "      <td>Rick and Morty</td>\n",
       "      <td>(2013– )</td>\n",
       "      <td>\\nAnimation, Adventure, Comedy</td>\n",
       "      <td>9.2</td>\n",
       "      <td>\\nAn animated series that follows the exploits...</td>\n",
       "      <td>\\n            \\n    Stars:\\nJustin Roiland, \\n...</td>\n",
       "      <td>414,849</td>\n",
       "      <td>23.0</td>\n",
       "      <td>NaN</td>\n",
       "    </tr>\n",
       "    <tr>\n",
       "      <th>4</th>\n",
       "      <td>Army of Thieves</td>\n",
       "      <td>(2021)</td>\n",
       "      <td>\\nAction, Crime, Horror</td>\n",
       "      <td>NaN</td>\n",
       "      <td>\\nA prequel, set before the events of Army of ...</td>\n",
       "      <td>\\n    Director:\\nMatthias Schweighöfer\\n| \\n  ...</td>\n",
       "      <td>NaN</td>\n",
       "      <td>NaN</td>\n",
       "      <td>NaN</td>\n",
       "    </tr>\n",
       "  </tbody>\n",
       "</table>\n",
       "</div>"
      ],
      "text/plain": [
       "                                MOVIES         YEAR  \\\n",
       "0                        Blood Red Sky       (2021)   \n",
       "1  Masters of the Universe: Revelation     (2021– )   \n",
       "2                     The Walking Dead  (2010–2022)   \n",
       "3                       Rick and Morty     (2013– )   \n",
       "4                      Army of Thieves       (2021)   \n",
       "\n",
       "                                        GENRE  RATING  \\\n",
       "0      \\nAction, Horror, Thriller                 6.1   \n",
       "1  \\nAnimation, Action, Adventure                 5.0   \n",
       "2       \\nDrama, Horror, Thriller                 8.2   \n",
       "3  \\nAnimation, Adventure, Comedy                 9.2   \n",
       "4         \\nAction, Crime, Horror                 NaN   \n",
       "\n",
       "                                            ONE-LINE  \\\n",
       "0  \\nA woman with a mysterious illness is forced ...   \n",
       "1  \\nThe war for Eternia begins again in what may...   \n",
       "2  \\nSheriff Deputy Rick Grimes wakes up from a c...   \n",
       "3  \\nAn animated series that follows the exploits...   \n",
       "4  \\nA prequel, set before the events of Army of ...   \n",
       "\n",
       "                                               STARS    VOTES  RunTime Gross  \n",
       "0  \\n    Director:\\nPeter Thorwarth\\n| \\n    Star...   21,062    121.0   NaN  \n",
       "1  \\n            \\n    Stars:\\nChris Wood, \\nSara...   17,870     25.0   NaN  \n",
       "2  \\n            \\n    Stars:\\nAndrew Lincoln, \\n...  885,805     44.0   NaN  \n",
       "3  \\n            \\n    Stars:\\nJustin Roiland, \\n...  414,849     23.0   NaN  \n",
       "4  \\n    Director:\\nMatthias Schweighöfer\\n| \\n  ...      NaN      NaN   NaN  "
      ]
     },
     "execution_count": 67,
     "metadata": {},
     "output_type": "execute_result"
    }
   ],
   "source": [
    "movies_df.head()"
   ]
  },
  {
   "cell_type": "markdown",
   "id": "0ef2c479-2945-4613-89e0-6556e55c3434",
   "metadata": {},
   "source": [
    "**Values in \"YEAR\" attribute are not complete**"
   ]
  },
  {
   "cell_type": "code",
   "execution_count": 58,
   "id": "3261e3a3-8d97-4221-9539-d67fb3d09cdc",
   "metadata": {},
   "outputs": [
    {
     "data": {
      "text/html": [
       "<div>\n",
       "<style scoped>\n",
       "    .dataframe tbody tr th:only-of-type {\n",
       "        vertical-align: middle;\n",
       "    }\n",
       "\n",
       "    .dataframe tbody tr th {\n",
       "        vertical-align: top;\n",
       "    }\n",
       "\n",
       "    .dataframe thead th {\n",
       "        text-align: right;\n",
       "    }\n",
       "</style>\n",
       "<table border=\"1\" class=\"dataframe\">\n",
       "  <thead>\n",
       "    <tr style=\"text-align: right;\">\n",
       "      <th></th>\n",
       "      <th>MOVIES</th>\n",
       "      <th>YEAR</th>\n",
       "      <th>GENRE</th>\n",
       "      <th>RATING</th>\n",
       "      <th>ONE-LINE</th>\n",
       "      <th>STARS</th>\n",
       "      <th>VOTES</th>\n",
       "      <th>RunTime</th>\n",
       "      <th>Gross</th>\n",
       "    </tr>\n",
       "  </thead>\n",
       "  <tbody>\n",
       "    <tr>\n",
       "      <th>9641</th>\n",
       "      <td>The Drew Barrymore Show</td>\n",
       "      <td>(2020– )</td>\n",
       "      <td>\\nTalk-Show</td>\n",
       "      <td>NaN</td>\n",
       "      <td>\\nActress Laura Prepon will stops by to be cha...</td>\n",
       "      <td>\\n    Director:\\nAdam Heydt\\n| \\n    Stars:\\nD...</td>\n",
       "      <td>NaN</td>\n",
       "      <td>43.0</td>\n",
       "      <td>NaN</td>\n",
       "    </tr>\n",
       "    <tr>\n",
       "      <th>2652</th>\n",
       "      <td>The American Barbecue Showdown</td>\n",
       "      <td>(2020– )</td>\n",
       "      <td>\\nReality-TV</td>\n",
       "      <td>7.2</td>\n",
       "      <td>\\nFood competition that follows the country's ...</td>\n",
       "      <td>\\n            \\n    Stars:\\nKevin Bludso, \\nMe...</td>\n",
       "      <td>957</td>\n",
       "      <td>NaN</td>\n",
       "      <td>NaN</td>\n",
       "    </tr>\n",
       "    <tr>\n",
       "      <th>5244</th>\n",
       "      <td>Cuckoo Song</td>\n",
       "      <td>NaN</td>\n",
       "      <td>\\nDrama, Horror, Mystery</td>\n",
       "      <td>NaN</td>\n",
       "      <td>\\nIn the haunting aftermath of war, a missing ...</td>\n",
       "      <td>\\n</td>\n",
       "      <td>NaN</td>\n",
       "      <td>60.0</td>\n",
       "      <td>NaN</td>\n",
       "    </tr>\n",
       "    <tr>\n",
       "      <th>1998</th>\n",
       "      <td>Cowspiracy: The Sustainability Secret</td>\n",
       "      <td>(2014)</td>\n",
       "      <td>\\nDocumentary</td>\n",
       "      <td>8.2</td>\n",
       "      <td>\\nFollow the shocking, yet humorous, journey o...</td>\n",
       "      <td>\\n    Directors:\\nKip Andersen, \\nKeegan Kuhn\\...</td>\n",
       "      <td>23,655</td>\n",
       "      <td>90.0</td>\n",
       "      <td>NaN</td>\n",
       "    </tr>\n",
       "    <tr>\n",
       "      <th>5386</th>\n",
       "      <td>Hank: 5 Years from the Brink</td>\n",
       "      <td>(2013)</td>\n",
       "      <td>\\nDocumentary, Biography, News</td>\n",
       "      <td>6.6</td>\n",
       "      <td>\\nFor three weeks in September 2008, one perso...</td>\n",
       "      <td>\\n    Director:\\nJoe Berlinger\\n| \\n    Stars:...</td>\n",
       "      <td>489</td>\n",
       "      <td>85.0</td>\n",
       "      <td>NaN</td>\n",
       "    </tr>\n",
       "    <tr>\n",
       "      <th>2066</th>\n",
       "      <td>Damascus Cover</td>\n",
       "      <td>(2017)</td>\n",
       "      <td>\\nThriller</td>\n",
       "      <td>5.2</td>\n",
       "      <td>\\nA spy navigates the precarious terrain of lo...</td>\n",
       "      <td>\\n    Director:\\nDaniel Zelik Berk\\n| \\n    St...</td>\n",
       "      <td>2,574</td>\n",
       "      <td>93.0</td>\n",
       "      <td>NaN</td>\n",
       "    </tr>\n",
       "    <tr>\n",
       "      <th>6533</th>\n",
       "      <td>Dexter</td>\n",
       "      <td>(2006–2013)</td>\n",
       "      <td>\\nCrime, Drama, Mystery</td>\n",
       "      <td>8.5</td>\n",
       "      <td>\\nThe Homicide Division is buzzing after the I...</td>\n",
       "      <td>\\n    Director:\\nRobert Lieberman\\n| \\n    Sta...</td>\n",
       "      <td>4,909</td>\n",
       "      <td>56.0</td>\n",
       "      <td>NaN</td>\n",
       "    </tr>\n",
       "    <tr>\n",
       "      <th>1939</th>\n",
       "      <td>Il processo</td>\n",
       "      <td>(2019– )</td>\n",
       "      <td>\\nCrime</td>\n",
       "      <td>7.0</td>\n",
       "      <td>\\nA group of characters is implicated in the m...</td>\n",
       "      <td>\\n            \\n    Stars:\\nVittoria Puccini, ...</td>\n",
       "      <td>2,545</td>\n",
       "      <td>52.0</td>\n",
       "      <td>NaN</td>\n",
       "    </tr>\n",
       "    <tr>\n",
       "      <th>2866</th>\n",
       "      <td>Gente que viene y bah</td>\n",
       "      <td>(2019)</td>\n",
       "      <td>\\nComedy, Romance</td>\n",
       "      <td>6.2</td>\n",
       "      <td>\\nAfter discovering that her boyfriend is chea...</td>\n",
       "      <td>\\n    Director:\\nPatricia Font\\n| \\n    Stars:...</td>\n",
       "      <td>2,758</td>\n",
       "      <td>97.0</td>\n",
       "      <td>NaN</td>\n",
       "    </tr>\n",
       "    <tr>\n",
       "      <th>9927</th>\n",
       "      <td>Ginny &amp; Georgia</td>\n",
       "      <td>(2021– )</td>\n",
       "      <td>\\nComedy, Drama</td>\n",
       "      <td>NaN</td>\n",
       "      <td>\\nAdd a Plot\\n</td>\n",
       "      <td>\\n    Director:\\nAnya Adams\\n| \\n    Stars:\\nB...</td>\n",
       "      <td>NaN</td>\n",
       "      <td>NaN</td>\n",
       "      <td>NaN</td>\n",
       "    </tr>\n",
       "  </tbody>\n",
       "</table>\n",
       "</div>"
      ],
      "text/plain": [
       "                                     MOVIES         YEAR  \\\n",
       "9641                The Drew Barrymore Show     (2020– )   \n",
       "2652         The American Barbecue Showdown     (2020– )   \n",
       "5244                            Cuckoo Song          NaN   \n",
       "1998  Cowspiracy: The Sustainability Secret       (2014)   \n",
       "5386           Hank: 5 Years from the Brink       (2013)   \n",
       "2066                         Damascus Cover       (2017)   \n",
       "6533                                 Dexter  (2006–2013)   \n",
       "1939                            Il processo     (2019– )   \n",
       "2866                  Gente que viene y bah       (2019)   \n",
       "9927                        Ginny & Georgia     (2021– )   \n",
       "\n",
       "                                           GENRE  RATING  \\\n",
       "9641                     \\nTalk-Show                 NaN   \n",
       "2652                    \\nReality-TV                 7.2   \n",
       "5244        \\nDrama, Horror, Mystery                 NaN   \n",
       "1998                   \\nDocumentary                 8.2   \n",
       "5386  \\nDocumentary, Biography, News                 6.6   \n",
       "2066                      \\nThriller                 5.2   \n",
       "6533         \\nCrime, Drama, Mystery                 8.5   \n",
       "1939                         \\nCrime                 7.0   \n",
       "2866               \\nComedy, Romance                 6.2   \n",
       "9927                 \\nComedy, Drama                 NaN   \n",
       "\n",
       "                                               ONE-LINE  \\\n",
       "9641  \\nActress Laura Prepon will stops by to be cha...   \n",
       "2652  \\nFood competition that follows the country's ...   \n",
       "5244  \\nIn the haunting aftermath of war, a missing ...   \n",
       "1998  \\nFollow the shocking, yet humorous, journey o...   \n",
       "5386  \\nFor three weeks in September 2008, one perso...   \n",
       "2066  \\nA spy navigates the precarious terrain of lo...   \n",
       "6533  \\nThe Homicide Division is buzzing after the I...   \n",
       "1939  \\nA group of characters is implicated in the m...   \n",
       "2866  \\nAfter discovering that her boyfriend is chea...   \n",
       "9927                                     \\nAdd a Plot\\n   \n",
       "\n",
       "                                                  STARS   VOTES  RunTime Gross  \n",
       "9641  \\n    Director:\\nAdam Heydt\\n| \\n    Stars:\\nD...     NaN     43.0   NaN  \n",
       "2652  \\n            \\n    Stars:\\nKevin Bludso, \\nMe...     957      NaN   NaN  \n",
       "5244                                                 \\n     NaN     60.0   NaN  \n",
       "1998  \\n    Directors:\\nKip Andersen, \\nKeegan Kuhn\\...  23,655     90.0   NaN  \n",
       "5386  \\n    Director:\\nJoe Berlinger\\n| \\n    Stars:...     489     85.0   NaN  \n",
       "2066  \\n    Director:\\nDaniel Zelik Berk\\n| \\n    St...   2,574     93.0   NaN  \n",
       "6533  \\n    Director:\\nRobert Lieberman\\n| \\n    Sta...   4,909     56.0   NaN  \n",
       "1939  \\n            \\n    Stars:\\nVittoria Puccini, ...   2,545     52.0   NaN  \n",
       "2866  \\n    Director:\\nPatricia Font\\n| \\n    Stars:...   2,758     97.0   NaN  \n",
       "9927  \\n    Director:\\nAnya Adams\\n| \\n    Stars:\\nB...     NaN      NaN   NaN  "
      ]
     },
     "execution_count": 58,
     "metadata": {},
     "output_type": "execute_result"
    }
   ],
   "source": [
    "movies_df.sample(10)"
   ]
  },
  {
   "cell_type": "markdown",
   "id": "56918413-f888-488f-9e05-db5b21b27b6f",
   "metadata": {},
   "source": [
    "**Missing values in \"Gross\" column**"
   ]
  },
  {
   "cell_type": "code",
   "execution_count": 61,
   "id": "39017d82-5300-4ea4-8433-64c739072c6e",
   "metadata": {},
   "outputs": [
    {
     "name": "stdout",
     "output_type": "stream",
     "text": [
      "<class 'pandas.core.frame.DataFrame'>\n",
      "RangeIndex: 9999 entries, 0 to 9998\n",
      "Data columns (total 9 columns):\n",
      " #   Column    Non-Null Count  Dtype  \n",
      "---  ------    --------------  -----  \n",
      " 0   MOVIES    9999 non-null   object \n",
      " 1   YEAR      9355 non-null   object \n",
      " 2   GENRE     9919 non-null   object \n",
      " 3   RATING    8179 non-null   float64\n",
      " 4   ONE-LINE  9999 non-null   object \n",
      " 5   STARS     9999 non-null   object \n",
      " 6   VOTES     8179 non-null   object \n",
      " 7   RunTime   7041 non-null   float64\n",
      " 8   Gross     460 non-null    object \n",
      "dtypes: float64(2), object(7)\n",
      "memory usage: 703.2+ KB\n"
     ]
    }
   ],
   "source": [
    "movies_df.info()"
   ]
  },
  {
   "cell_type": "markdown",
   "id": "3d777b4c-32d3-4d8c-93f7-a120c795a4d0",
   "metadata": {},
   "source": [
    "**Column \"Gross\" gives the total amount earned in worldwide type object.**\n",
    "<br>**Column \"YEAR\" type object**\n",
    "<br>**Column \"VOTES\" type object**"
   ]
  },
  {
   "cell_type": "code",
   "execution_count": 37,
   "id": "353e0f85-4440-48c0-a597-93da063dea02",
   "metadata": {},
   "outputs": [
    {
     "data": {
      "text/plain": [
       "3182"
      ]
     },
     "execution_count": 37,
     "metadata": {},
     "output_type": "execute_result"
    }
   ],
   "source": [
    "sum(movies_df[\"MOVIES\"].duplicated())"
   ]
  },
  {
   "cell_type": "markdown",
   "id": "f8a8d36d-d1a2-4ac7-8b82-52b344ec2560",
   "metadata": {},
   "source": [
    "**Column \"MOVIES\" with identical movie names**"
   ]
  },
  {
   "cell_type": "code",
   "execution_count": 42,
   "id": "b437bed0-3d22-4916-ae0f-4bf6c585d741",
   "metadata": {},
   "outputs": [
    {
     "data": {
      "text/plain": [
       "Gross\n",
       "$0.01M     22\n",
       "$0.02M     16\n",
       "$0.00M     15\n",
       "$0.03M     10\n",
       "$0.04M      9\n",
       "           ..\n",
       "$37.77M     1\n",
       "$44.82M     1\n",
       "$21.36M     1\n",
       "$54.76M     1\n",
       "$10.40M     1\n",
       "Name: count, Length: 332, dtype: int64"
      ]
     },
     "execution_count": 42,
     "metadata": {},
     "output_type": "execute_result"
    }
   ],
   "source": [
    "movies_df[\"Gross\"].value_counts()"
   ]
  },
  {
   "cell_type": "code",
   "execution_count": 44,
   "id": "68946efd-e55c-48ec-942c-c0984920015b",
   "metadata": {},
   "outputs": [
    {
     "data": {
      "text/html": [
       "<div>\n",
       "<style scoped>\n",
       "    .dataframe tbody tr th:only-of-type {\n",
       "        vertical-align: middle;\n",
       "    }\n",
       "\n",
       "    .dataframe tbody tr th {\n",
       "        vertical-align: top;\n",
       "    }\n",
       "\n",
       "    .dataframe thead th {\n",
       "        text-align: right;\n",
       "    }\n",
       "</style>\n",
       "<table border=\"1\" class=\"dataframe\">\n",
       "  <thead>\n",
       "    <tr style=\"text-align: right;\">\n",
       "      <th></th>\n",
       "      <th>RATING</th>\n",
       "      <th>RunTime</th>\n",
       "    </tr>\n",
       "  </thead>\n",
       "  <tbody>\n",
       "    <tr>\n",
       "      <th>count</th>\n",
       "      <td>8179.000000</td>\n",
       "      <td>7041.000000</td>\n",
       "    </tr>\n",
       "    <tr>\n",
       "      <th>mean</th>\n",
       "      <td>6.921176</td>\n",
       "      <td>68.688539</td>\n",
       "    </tr>\n",
       "    <tr>\n",
       "      <th>std</th>\n",
       "      <td>1.220232</td>\n",
       "      <td>47.258056</td>\n",
       "    </tr>\n",
       "    <tr>\n",
       "      <th>min</th>\n",
       "      <td>1.100000</td>\n",
       "      <td>1.000000</td>\n",
       "    </tr>\n",
       "    <tr>\n",
       "      <th>25%</th>\n",
       "      <td>6.200000</td>\n",
       "      <td>36.000000</td>\n",
       "    </tr>\n",
       "    <tr>\n",
       "      <th>50%</th>\n",
       "      <td>7.100000</td>\n",
       "      <td>60.000000</td>\n",
       "    </tr>\n",
       "    <tr>\n",
       "      <th>75%</th>\n",
       "      <td>7.800000</td>\n",
       "      <td>95.000000</td>\n",
       "    </tr>\n",
       "    <tr>\n",
       "      <th>max</th>\n",
       "      <td>9.900000</td>\n",
       "      <td>853.000000</td>\n",
       "    </tr>\n",
       "  </tbody>\n",
       "</table>\n",
       "</div>"
      ],
      "text/plain": [
       "            RATING      RunTime\n",
       "count  8179.000000  7041.000000\n",
       "mean      6.921176    68.688539\n",
       "std       1.220232    47.258056\n",
       "min       1.100000     1.000000\n",
       "25%       6.200000    36.000000\n",
       "50%       7.100000    60.000000\n",
       "75%       7.800000    95.000000\n",
       "max       9.900000   853.000000"
      ]
     },
     "execution_count": 44,
     "metadata": {},
     "output_type": "execute_result"
    }
   ],
   "source": [
    "movies_df.describe()"
   ]
  },
  {
   "cell_type": "markdown",
   "id": "12751e0f-220e-4c28-9d82-ca72691369de",
   "metadata": {},
   "source": [
    "**Invalid running time**"
   ]
  },
  {
   "cell_type": "markdown",
   "id": "8ce3f532-452b-4f2c-a250-733b37500303",
   "metadata": {},
   "source": [
    "<h3>Quality Issues</h3>\n",
    "\n",
    "1. Values in \"YEAR\" attribute are not complete\n",
    "2. Missing values in \"Gross\" column\n",
    "3. Column \"Gross\" gives the total amount earned in worldwide type object.\n",
    "4. Column \"YEAR\" type object\n",
    "5. Column \"VOTES\" type object\n",
    "6. Column \"MOVIES\" with identical movie names"
   ]
  },
  {
   "cell_type": "markdown",
   "id": "8f1f0377-9570-4bbe-8a01-ba2f59499a94",
   "metadata": {
    "jp-MarkdownHeadingCollapsed": true
   },
   "source": [
    "<h2>Cleaning Data</h2>\n",
    "Made a copy of the original data before cleaning. "
   ]
  },
  {
   "cell_type": "code",
   "execution_count": 71,
   "id": "4ba3d174-4600-49cb-8e9a-5c33107646d8",
   "metadata": {},
   "outputs": [],
   "source": [
    "movies_clean_df = movies_df.copy()"
   ]
  },
  {
   "cell_type": "markdown",
   "id": "2e42b77f-91aa-4478-b2c2-153bba070913",
   "metadata": {},
   "source": [
    "<h3>Quality Issues</h3>\n",
    "\n",
    "**1. Values in \"YEAR\" attribute are not complete**\n",
    "\n",
    "**Define**\n",
    "\n",
    "We are intrested in \"The year of movie or tv shows telecast for audience\" without unneccessary elements like here \"(2014– )\" we want (2014)"
   ]
  },
  {
   "cell_type": "markdown",
   "id": "dba8694e-7cb5-4f0c-9fec-2ae028f77f63",
   "metadata": {},
   "source": [
    "**Code**"
   ]
  },
  {
   "cell_type": "code",
   "execution_count": 79,
   "id": "d38d1d69-f229-4dc9-a41e-452d081ff2a7",
   "metadata": {},
   "outputs": [
    {
     "name": "stdout",
     "output_type": "stream",
     "text": [
      "Cleaned DataFrame:\n"
     ]
    },
    {
     "data": {
      "text/html": [
       "<div>\n",
       "<style scoped>\n",
       "    .dataframe tbody tr th:only-of-type {\n",
       "        vertical-align: middle;\n",
       "    }\n",
       "\n",
       "    .dataframe tbody tr th {\n",
       "        vertical-align: top;\n",
       "    }\n",
       "\n",
       "    .dataframe thead th {\n",
       "        text-align: right;\n",
       "    }\n",
       "</style>\n",
       "<table border=\"1\" class=\"dataframe\">\n",
       "  <thead>\n",
       "    <tr style=\"text-align: right;\">\n",
       "      <th></th>\n",
       "      <th>MOVIES</th>\n",
       "      <th>YEAR</th>\n",
       "      <th>GENRE</th>\n",
       "      <th>RATING</th>\n",
       "      <th>ONE-LINE</th>\n",
       "      <th>STARS</th>\n",
       "      <th>VOTES</th>\n",
       "      <th>RunTime</th>\n",
       "      <th>Gross</th>\n",
       "    </tr>\n",
       "  </thead>\n",
       "  <tbody>\n",
       "    <tr>\n",
       "      <th>2138</th>\n",
       "      <td>La Corazonada</td>\n",
       "      <td>(2020)</td>\n",
       "      <td>\\nCrime, Thriller</td>\n",
       "      <td>5.4</td>\n",
       "      <td>\\nPipa begins her career as a police detective...</td>\n",
       "      <td>\\n    Director:\\nAlejandro Montiel\\n| \\n    St...</td>\n",
       "      <td>2,361</td>\n",
       "      <td>116.0</td>\n",
       "      <td>NaN</td>\n",
       "    </tr>\n",
       "    <tr>\n",
       "      <th>3619</th>\n",
       "      <td>Milly &amp; Mamet: Ini Bukan Cinta &amp; Rangga</td>\n",
       "      <td>(2018)</td>\n",
       "      <td>\\nComedy, Drama</td>\n",
       "      <td>7.4</td>\n",
       "      <td>\\nMamet obeyed Milly's request to stop working...</td>\n",
       "      <td>\\n    Director:\\nErnest Prakasa\\n| \\n    Stars...</td>\n",
       "      <td>684</td>\n",
       "      <td>101.0</td>\n",
       "      <td>NaN</td>\n",
       "    </tr>\n",
       "    <tr>\n",
       "      <th>3360</th>\n",
       "      <td>Coronavirus, Explained</td>\n",
       "      <td>(2020)</td>\n",
       "      <td>\\nDocumentary</td>\n",
       "      <td>7.6</td>\n",
       "      <td>\\nIn 2020, the world changed. This topical ser...</td>\n",
       "      <td>\\n            \\n    Stars:\\nIdris Elba, \\nLaur...</td>\n",
       "      <td>1,927</td>\n",
       "      <td>69.0</td>\n",
       "      <td>NaN</td>\n",
       "    </tr>\n",
       "    <tr>\n",
       "      <th>347</th>\n",
       "      <td>Godless</td>\n",
       "      <td>(2017)</td>\n",
       "      <td>\\nDrama, Western</td>\n",
       "      <td>8.3</td>\n",
       "      <td>\\nIn the 1880s American West, murderous outlaw...</td>\n",
       "      <td>\\n            \\n    Stars:\\nJack O'Connell, \\n...</td>\n",
       "      <td>56,997</td>\n",
       "      <td>452.0</td>\n",
       "      <td>NaN</td>\n",
       "    </tr>\n",
       "    <tr>\n",
       "      <th>888</th>\n",
       "      <td>The Laundromat</td>\n",
       "      <td>None</td>\n",
       "      <td>\\nComedy, Crime, Drama</td>\n",
       "      <td>6.3</td>\n",
       "      <td>\\nA widow investigates an insurance fraud, cha...</td>\n",
       "      <td>\\n    Director:\\nSteven Soderbergh\\n| \\n    St...</td>\n",
       "      <td>46,757</td>\n",
       "      <td>96.0</td>\n",
       "      <td>NaN</td>\n",
       "    </tr>\n",
       "    <tr>\n",
       "      <th>1643</th>\n",
       "      <td>Trigun</td>\n",
       "      <td>(1998)</td>\n",
       "      <td>\\nAnimation, Action, Adventure</td>\n",
       "      <td>8.3</td>\n",
       "      <td>\\nVash the Stampede is the most infamous outla...</td>\n",
       "      <td>\\n            \\n    Stars:\\nMasaya Onosaka, \\n...</td>\n",
       "      <td>20,026</td>\n",
       "      <td>24.0</td>\n",
       "      <td>NaN</td>\n",
       "    </tr>\n",
       "    <tr>\n",
       "      <th>8871</th>\n",
       "      <td>¡A cantar!</td>\n",
       "      <td>None</td>\n",
       "      <td>\\nGame-Show, Music</td>\n",
       "      <td>7.3</td>\n",
       "      <td>\\nAdd a Plot\\n</td>\n",
       "      <td>\\n    Director:\\nSalva Romero\\n| \\n    Star:\\n...</td>\n",
       "      <td>7</td>\n",
       "      <td>42.0</td>\n",
       "      <td>NaN</td>\n",
       "    </tr>\n",
       "    <tr>\n",
       "      <th>9694</th>\n",
       "      <td>Last Chance U: Basketball</td>\n",
       "      <td>None</td>\n",
       "      <td>\\nDocumentary, Sport</td>\n",
       "      <td>7.7</td>\n",
       "      <td>\\nAdd a Plot\\n</td>\n",
       "      <td>\\n    Directors:\\nAdam Leibowitz, \\nDaniel Geo...</td>\n",
       "      <td>77</td>\n",
       "      <td>NaN</td>\n",
       "      <td>NaN</td>\n",
       "    </tr>\n",
       "    <tr>\n",
       "      <th>5997</th>\n",
       "      <td>Untitled Asterix Project</td>\n",
       "      <td>None</td>\n",
       "      <td>\\nAnimation</td>\n",
       "      <td>NaN</td>\n",
       "      <td>\\nAdd a Plot\\n</td>\n",
       "      <td>\\n</td>\n",
       "      <td>NaN</td>\n",
       "      <td>NaN</td>\n",
       "      <td>NaN</td>\n",
       "    </tr>\n",
       "    <tr>\n",
       "      <th>7458</th>\n",
       "      <td>Anne</td>\n",
       "      <td>(2017–2019)</td>\n",
       "      <td>\\nDrama, Family</td>\n",
       "      <td>9.2</td>\n",
       "      <td>\\nMatthew and Anne journey to help Ka'kwet.</td>\n",
       "      <td>\\n    Director:\\nPaul Fox\\n| \\n    Stars:\\nAmy...</td>\n",
       "      <td>1,499</td>\n",
       "      <td>44.0</td>\n",
       "      <td>NaN</td>\n",
       "    </tr>\n",
       "  </tbody>\n",
       "</table>\n",
       "</div>"
      ],
      "text/plain": [
       "                                       MOVIES         YEAR  \\\n",
       "2138                            La Corazonada       (2020)   \n",
       "3619  Milly & Mamet: Ini Bukan Cinta & Rangga       (2018)   \n",
       "3360                   Coronavirus, Explained       (2020)   \n",
       "347                                   Godless       (2017)   \n",
       "888                            The Laundromat         None   \n",
       "1643                                   Trigun       (1998)   \n",
       "8871                               ¡A cantar!         None   \n",
       "9694                Last Chance U: Basketball         None   \n",
       "5997                 Untitled Asterix Project         None   \n",
       "7458                                     Anne  (2017–2019)   \n",
       "\n",
       "                                           GENRE  RATING  \\\n",
       "2138               \\nCrime, Thriller                 5.4   \n",
       "3619                 \\nComedy, Drama                 7.4   \n",
       "3360                   \\nDocumentary                 7.6   \n",
       "347                 \\nDrama, Western                 8.3   \n",
       "888           \\nComedy, Crime, Drama                 6.3   \n",
       "1643  \\nAnimation, Action, Adventure                 8.3   \n",
       "8871              \\nGame-Show, Music                 7.3   \n",
       "9694            \\nDocumentary, Sport                 7.7   \n",
       "5997                     \\nAnimation                 NaN   \n",
       "7458                 \\nDrama, Family                 9.2   \n",
       "\n",
       "                                               ONE-LINE  \\\n",
       "2138  \\nPipa begins her career as a police detective...   \n",
       "3619  \\nMamet obeyed Milly's request to stop working...   \n",
       "3360  \\nIn 2020, the world changed. This topical ser...   \n",
       "347   \\nIn the 1880s American West, murderous outlaw...   \n",
       "888   \\nA widow investigates an insurance fraud, cha...   \n",
       "1643  \\nVash the Stampede is the most infamous outla...   \n",
       "8871                                     \\nAdd a Plot\\n   \n",
       "9694                                     \\nAdd a Plot\\n   \n",
       "5997                                     \\nAdd a Plot\\n   \n",
       "7458        \\nMatthew and Anne journey to help Ka'kwet.   \n",
       "\n",
       "                                                  STARS   VOTES  RunTime Gross  \n",
       "2138  \\n    Director:\\nAlejandro Montiel\\n| \\n    St...   2,361    116.0   NaN  \n",
       "3619  \\n    Director:\\nErnest Prakasa\\n| \\n    Stars...     684    101.0   NaN  \n",
       "3360  \\n            \\n    Stars:\\nIdris Elba, \\nLaur...   1,927     69.0   NaN  \n",
       "347   \\n            \\n    Stars:\\nJack O'Connell, \\n...  56,997    452.0   NaN  \n",
       "888   \\n    Director:\\nSteven Soderbergh\\n| \\n    St...  46,757     96.0   NaN  \n",
       "1643  \\n            \\n    Stars:\\nMasaya Onosaka, \\n...  20,026     24.0   NaN  \n",
       "8871  \\n    Director:\\nSalva Romero\\n| \\n    Star:\\n...       7     42.0   NaN  \n",
       "9694  \\n    Directors:\\nAdam Leibowitz, \\nDaniel Geo...      77      NaN   NaN  \n",
       "5997                                                 \\n     NaN      NaN   NaN  \n",
       "7458  \\n    Director:\\nPaul Fox\\n| \\n    Stars:\\nAmy...   1,499     44.0   NaN  "
      ]
     },
     "execution_count": 79,
     "metadata": {},
     "output_type": "execute_result"
    }
   ],
   "source": [
    "#To clean and standardize the YEAR attribute values in the desired structure, we need to ensure the values conform to the following formats:\n",
    "\n",
    "#A single year: (YYYY)\n",
    "#A range of years: (YYYY–YYYY)\n",
    "\n",
    "import re\n",
    "\n",
    "def clean_year(year):\n",
    "    # Match a single year or a range of years\n",
    "    match = re.match(r\"\\((\\d{4})(?:–(\\d{4}))?\\)\", year)\n",
    "    if match:\n",
    "        start_year = match.group(1)\n",
    "        end_year = match.group(2)\n",
    "        if end_year:\n",
    "            return f\"({start_year}–{end_year})\"\n",
    "        return f\"({start_year})\"\n",
    "    return None  # Return None for invalid entries\n",
    "\n",
    "# Apply the cleaning function to the 'YEAR' column\n",
    "movies_clean_df['YEAR'] = movies_clean_df['YEAR'].apply(lambda x: clean_year(x) if isinstance(x, str) else None)\n",
    "\n",
    "# Display the cleaned DataFrame\n",
    "print(\"Cleaned DataFrame:\")\n",
    "movies_clean_df.sample(10)"
   ]
  },
  {
   "cell_type": "markdown",
   "id": "0010872d-936b-4b0a-bbc2-ef0dbc6a7bbc",
   "metadata": {},
   "source": [
    "**None instead of NaN in \"YEAR\" column**"
   ]
  },
  {
   "cell_type": "code",
   "execution_count": 108,
   "id": "4a7edbae-e9fa-4184-a26a-aae96ed907a0",
   "metadata": {},
   "outputs": [],
   "source": [
    "# Replace None with NaN in the 'YEAR' column\n",
    "movies_clean_df['YEAR'] = movies_clean_df['YEAR'].replace({None: np.nan})"
   ]
  },
  {
   "cell_type": "markdown",
   "id": "f892aaf1-a8be-4e2d-a07d-c3e9113d5ae3",
   "metadata": {},
   "source": [
    "**Test**"
   ]
  },
  {
   "cell_type": "code",
   "execution_count": 110,
   "id": "32be0c68-d861-4b4d-8743-86fbaf83e487",
   "metadata": {},
   "outputs": [
    {
     "name": "stdout",
     "output_type": "stream",
     "text": [
      "Cleaned DataFrame:\n"
     ]
    },
    {
     "data": {
      "text/html": [
       "<div>\n",
       "<style scoped>\n",
       "    .dataframe tbody tr th:only-of-type {\n",
       "        vertical-align: middle;\n",
       "    }\n",
       "\n",
       "    .dataframe tbody tr th {\n",
       "        vertical-align: top;\n",
       "    }\n",
       "\n",
       "    .dataframe thead th {\n",
       "        text-align: right;\n",
       "    }\n",
       "</style>\n",
       "<table border=\"1\" class=\"dataframe\">\n",
       "  <thead>\n",
       "    <tr style=\"text-align: right;\">\n",
       "      <th></th>\n",
       "      <th>MOVIES</th>\n",
       "      <th>YEAR</th>\n",
       "      <th>GENRE</th>\n",
       "      <th>RATING</th>\n",
       "      <th>ONE-LINE</th>\n",
       "      <th>STARS</th>\n",
       "      <th>VOTES</th>\n",
       "      <th>RunTime</th>\n",
       "    </tr>\n",
       "  </thead>\n",
       "  <tbody>\n",
       "    <tr>\n",
       "      <th>6413</th>\n",
       "      <td>Janguea y Rapea</td>\n",
       "      <td>NaN</td>\n",
       "      <td>\\nComedy, Music</td>\n",
       "      <td>NaN</td>\n",
       "      <td>\\nAdd a Plot\\n</td>\n",
       "      <td>\\n            \\n    Star:\\nRicardo O'Farrill\\n</td>\n",
       "      <td>NaN</td>\n",
       "      <td>NaN</td>\n",
       "    </tr>\n",
       "    <tr>\n",
       "      <th>9839</th>\n",
       "      <td>Dead Places</td>\n",
       "      <td>NaN</td>\n",
       "      <td>\\nAdventure, Horror, Thriller</td>\n",
       "      <td>6.4</td>\n",
       "      <td>\\nAdd a Plot\\n</td>\n",
       "      <td>\\n    Directors:\\nGareth Crocker, \\nFred Wolma...</td>\n",
       "      <td>9</td>\n",
       "      <td>NaN</td>\n",
       "    </tr>\n",
       "    <tr>\n",
       "      <th>3150</th>\n",
       "      <td>Duisburg - Linea di sangue</td>\n",
       "      <td>NaN</td>\n",
       "      <td>\\nCrime, Drama</td>\n",
       "      <td>5.5</td>\n",
       "      <td>\\nAfter a brutal mafia-led massacre in the cit...</td>\n",
       "      <td>\\n    Director:\\nEnzo Monteleone\\n| \\n    Star...</td>\n",
       "      <td>306</td>\n",
       "      <td>100.0</td>\n",
       "    </tr>\n",
       "    <tr>\n",
       "      <th>2783</th>\n",
       "      <td>Kujira no kora wa sajô ni utau</td>\n",
       "      <td>(2017)</td>\n",
       "      <td>\\nAnimation, Drama, Fantasy</td>\n",
       "      <td>7.1</td>\n",
       "      <td>\\nAs a magic weilder, young archivist Chakuro ...</td>\n",
       "      <td>\\n            \\n    Stars:\\nTony Azzolino, \\nB...</td>\n",
       "      <td>1,400</td>\n",
       "      <td>24.0</td>\n",
       "    </tr>\n",
       "    <tr>\n",
       "      <th>7099</th>\n",
       "      <td>Supergirl</td>\n",
       "      <td>(2015–2021)</td>\n",
       "      <td>\\nAction, Adventure, Drama</td>\n",
       "      <td>6.8</td>\n",
       "      <td>\\nKara's investigation into William Dey's \"cri...</td>\n",
       "      <td>\\n    Director:\\nDavid McWhirter\\n| \\n    Star...</td>\n",
       "      <td>1,064</td>\n",
       "      <td>42.0</td>\n",
       "    </tr>\n",
       "    <tr>\n",
       "      <th>3404</th>\n",
       "      <td>Chelsea</td>\n",
       "      <td>(2016–2017)</td>\n",
       "      <td>\\nComedy, Talk-Show</td>\n",
       "      <td>6.0</td>\n",
       "      <td>\\nChelsea Handler interviews celebrities, acad...</td>\n",
       "      <td>\\n            \\n    Stars:\\nChelsea Handler, \\...</td>\n",
       "      <td>1,995</td>\n",
       "      <td>30.0</td>\n",
       "    </tr>\n",
       "    <tr>\n",
       "      <th>5001</th>\n",
       "      <td>Hell and Back Again</td>\n",
       "      <td>(2011)</td>\n",
       "      <td>\\nDocumentary, Action, History</td>\n",
       "      <td>6.5</td>\n",
       "      <td>\\nWhat does it mean to lead men in war? What d...</td>\n",
       "      <td>\\n    Director:\\nDanfung Dennis\\n| \\n    Stars...</td>\n",
       "      <td>2,236</td>\n",
       "      <td>88.0</td>\n",
       "    </tr>\n",
       "    <tr>\n",
       "      <th>363</th>\n",
       "      <td>Comment je suis devenu super-héros</td>\n",
       "      <td>(2020)</td>\n",
       "      <td>\\nAction, Adventure, Comedy</td>\n",
       "      <td>5.8</td>\n",
       "      <td>\\nWhile superheroes have assimilated into Pari...</td>\n",
       "      <td>\\n    Director:\\nDouglas Attal\\n| \\n    Stars:...</td>\n",
       "      <td>3,214</td>\n",
       "      <td>97.0</td>\n",
       "    </tr>\n",
       "    <tr>\n",
       "      <th>2433</th>\n",
       "      <td>Against the Sun</td>\n",
       "      <td>(2014)</td>\n",
       "      <td>\\nBiography, Drama, War</td>\n",
       "      <td>6.5</td>\n",
       "      <td>\\nA WWII pilot, bombardier, and radioman find ...</td>\n",
       "      <td>\\n    Director:\\nBrian Peter Falk\\n| \\n    Sta...</td>\n",
       "      <td>5,503</td>\n",
       "      <td>100.0</td>\n",
       "    </tr>\n",
       "    <tr>\n",
       "      <th>8762</th>\n",
       "      <td>Dark</td>\n",
       "      <td>(2017–2020)</td>\n",
       "      <td>\\nCrime, Drama, Mystery</td>\n",
       "      <td>8.9</td>\n",
       "      <td>\\nCharlotte and Ulrich try to piece together w...</td>\n",
       "      <td>\\n    Director:\\nBaran bo Odar\\n| \\n    Stars:...</td>\n",
       "      <td>10,755</td>\n",
       "      <td>57.0</td>\n",
       "    </tr>\n",
       "  </tbody>\n",
       "</table>\n",
       "</div>"
      ],
      "text/plain": [
       "                                  MOVIES         YEAR  \\\n",
       "6413                     Janguea y Rapea          NaN   \n",
       "9839                         Dead Places          NaN   \n",
       "3150          Duisburg - Linea di sangue          NaN   \n",
       "2783      Kujira no kora wa sajô ni utau       (2017)   \n",
       "7099                           Supergirl  (2015–2021)   \n",
       "3404                             Chelsea  (2016–2017)   \n",
       "5001                 Hell and Back Again       (2011)   \n",
       "363   Comment je suis devenu super-héros       (2020)   \n",
       "2433                     Against the Sun       (2014)   \n",
       "8762                                Dark  (2017–2020)   \n",
       "\n",
       "                                           GENRE  RATING  \\\n",
       "6413                 \\nComedy, Music                 NaN   \n",
       "9839   \\nAdventure, Horror, Thriller                 6.4   \n",
       "3150                  \\nCrime, Drama                 5.5   \n",
       "2783     \\nAnimation, Drama, Fantasy                 7.1   \n",
       "7099      \\nAction, Adventure, Drama                 6.8   \n",
       "3404             \\nComedy, Talk-Show                 6.0   \n",
       "5001  \\nDocumentary, Action, History                 6.5   \n",
       "363      \\nAction, Adventure, Comedy                 5.8   \n",
       "2433         \\nBiography, Drama, War                 6.5   \n",
       "8762         \\nCrime, Drama, Mystery                 8.9   \n",
       "\n",
       "                                               ONE-LINE  \\\n",
       "6413                                     \\nAdd a Plot\\n   \n",
       "9839                                     \\nAdd a Plot\\n   \n",
       "3150  \\nAfter a brutal mafia-led massacre in the cit...   \n",
       "2783  \\nAs a magic weilder, young archivist Chakuro ...   \n",
       "7099  \\nKara's investigation into William Dey's \"cri...   \n",
       "3404  \\nChelsea Handler interviews celebrities, acad...   \n",
       "5001  \\nWhat does it mean to lead men in war? What d...   \n",
       "363   \\nWhile superheroes have assimilated into Pari...   \n",
       "2433  \\nA WWII pilot, bombardier, and radioman find ...   \n",
       "8762  \\nCharlotte and Ulrich try to piece together w...   \n",
       "\n",
       "                                                  STARS   VOTES  RunTime  \n",
       "6413     \\n            \\n    Star:\\nRicardo O'Farrill\\n     NaN      NaN  \n",
       "9839  \\n    Directors:\\nGareth Crocker, \\nFred Wolma...       9      NaN  \n",
       "3150  \\n    Director:\\nEnzo Monteleone\\n| \\n    Star...     306    100.0  \n",
       "2783  \\n            \\n    Stars:\\nTony Azzolino, \\nB...   1,400     24.0  \n",
       "7099  \\n    Director:\\nDavid McWhirter\\n| \\n    Star...   1,064     42.0  \n",
       "3404  \\n            \\n    Stars:\\nChelsea Handler, \\...   1,995     30.0  \n",
       "5001  \\n    Director:\\nDanfung Dennis\\n| \\n    Stars...   2,236     88.0  \n",
       "363   \\n    Director:\\nDouglas Attal\\n| \\n    Stars:...   3,214     97.0  \n",
       "2433  \\n    Director:\\nBrian Peter Falk\\n| \\n    Sta...   5,503    100.0  \n",
       "8762  \\n    Director:\\nBaran bo Odar\\n| \\n    Stars:...  10,755     57.0  "
      ]
     },
     "execution_count": 110,
     "metadata": {},
     "output_type": "execute_result"
    }
   ],
   "source": [
    "print(\"Cleaned DataFrame:\")\n",
    "movies_clean_df.sample(10)"
   ]
  },
  {
   "cell_type": "markdown",
   "id": "5c1ac86a-1e28-4979-808c-64651f5d9c0f",
   "metadata": {},
   "source": [
    "**2. Missing values in \"Gross\" column**\n",
    "<br>**3. Column \"Gross\" gives the total amount earned in worldwide type object.**\n",
    "\n",
    "<br>**Define**\n",
    "\n",
    "We can drop this column as there are almost no non-null values."
   ]
  },
  {
   "cell_type": "markdown",
   "id": "b087b809-63cf-46ea-8485-e5a5571719c8",
   "metadata": {},
   "source": [
    "**Code**"
   ]
  },
  {
   "cell_type": "code",
   "execution_count": 123,
   "id": "535d6f41-bbad-4dae-a2d2-374b4e7d9053",
   "metadata": {},
   "outputs": [],
   "source": [
    "# Drop the 'Gross' column from the DataFrame\n",
    "movies_clean_df = movies_clean_df.drop(columns=['Gross'])"
   ]
  },
  {
   "cell_type": "markdown",
   "id": "bcf3a418-32df-4aad-8b01-f4ffd53c23b0",
   "metadata": {},
   "source": [
    "**Test**"
   ]
  },
  {
   "cell_type": "code",
   "execution_count": 125,
   "id": "bb4d24c5-508f-41d3-a0f5-a57fcbbb161d",
   "metadata": {},
   "outputs": [
    {
     "name": "stdout",
     "output_type": "stream",
     "text": [
      "Updated DataFrame after dropping the 'Gross' column:\n"
     ]
    },
    {
     "data": {
      "text/html": [
       "<div>\n",
       "<style scoped>\n",
       "    .dataframe tbody tr th:only-of-type {\n",
       "        vertical-align: middle;\n",
       "    }\n",
       "\n",
       "    .dataframe tbody tr th {\n",
       "        vertical-align: top;\n",
       "    }\n",
       "\n",
       "    .dataframe thead th {\n",
       "        text-align: right;\n",
       "    }\n",
       "</style>\n",
       "<table border=\"1\" class=\"dataframe\">\n",
       "  <thead>\n",
       "    <tr style=\"text-align: right;\">\n",
       "      <th></th>\n",
       "      <th>MOVIES</th>\n",
       "      <th>YEAR</th>\n",
       "      <th>GENRE</th>\n",
       "      <th>RATING</th>\n",
       "      <th>ONE-LINE</th>\n",
       "      <th>STARS</th>\n",
       "      <th>VOTES</th>\n",
       "      <th>RunTime</th>\n",
       "    </tr>\n",
       "  </thead>\n",
       "  <tbody>\n",
       "    <tr>\n",
       "      <th>0</th>\n",
       "      <td>Blood Red Sky</td>\n",
       "      <td>(2021)</td>\n",
       "      <td>\\nAction, Horror, Thriller</td>\n",
       "      <td>6.1</td>\n",
       "      <td>\\nA woman with a mysterious illness is forced ...</td>\n",
       "      <td>\\n    Director:\\nPeter Thorwarth\\n| \\n    Star...</td>\n",
       "      <td>21,062</td>\n",
       "      <td>121.0</td>\n",
       "    </tr>\n",
       "    <tr>\n",
       "      <th>1</th>\n",
       "      <td>Masters of the Universe: Revelation</td>\n",
       "      <td>NaN</td>\n",
       "      <td>\\nAnimation, Action, Adventure</td>\n",
       "      <td>5.0</td>\n",
       "      <td>\\nThe war for Eternia begins again in what may...</td>\n",
       "      <td>\\n            \\n    Stars:\\nChris Wood, \\nSara...</td>\n",
       "      <td>17,870</td>\n",
       "      <td>25.0</td>\n",
       "    </tr>\n",
       "    <tr>\n",
       "      <th>2</th>\n",
       "      <td>The Walking Dead</td>\n",
       "      <td>(2010–2022)</td>\n",
       "      <td>\\nDrama, Horror, Thriller</td>\n",
       "      <td>8.2</td>\n",
       "      <td>\\nSheriff Deputy Rick Grimes wakes up from a c...</td>\n",
       "      <td>\\n            \\n    Stars:\\nAndrew Lincoln, \\n...</td>\n",
       "      <td>885,805</td>\n",
       "      <td>44.0</td>\n",
       "    </tr>\n",
       "    <tr>\n",
       "      <th>3</th>\n",
       "      <td>Rick and Morty</td>\n",
       "      <td>NaN</td>\n",
       "      <td>\\nAnimation, Adventure, Comedy</td>\n",
       "      <td>9.2</td>\n",
       "      <td>\\nAn animated series that follows the exploits...</td>\n",
       "      <td>\\n            \\n    Stars:\\nJustin Roiland, \\n...</td>\n",
       "      <td>414,849</td>\n",
       "      <td>23.0</td>\n",
       "    </tr>\n",
       "    <tr>\n",
       "      <th>4</th>\n",
       "      <td>Army of Thieves</td>\n",
       "      <td>(2021)</td>\n",
       "      <td>\\nAction, Crime, Horror</td>\n",
       "      <td>NaN</td>\n",
       "      <td>\\nA prequel, set before the events of Army of ...</td>\n",
       "      <td>\\n    Director:\\nMatthias Schweighöfer\\n| \\n  ...</td>\n",
       "      <td>NaN</td>\n",
       "      <td>NaN</td>\n",
       "    </tr>\n",
       "  </tbody>\n",
       "</table>\n",
       "</div>"
      ],
      "text/plain": [
       "                                MOVIES         YEAR  \\\n",
       "0                        Blood Red Sky       (2021)   \n",
       "1  Masters of the Universe: Revelation          NaN   \n",
       "2                     The Walking Dead  (2010–2022)   \n",
       "3                       Rick and Morty          NaN   \n",
       "4                      Army of Thieves       (2021)   \n",
       "\n",
       "                                        GENRE  RATING  \\\n",
       "0      \\nAction, Horror, Thriller                 6.1   \n",
       "1  \\nAnimation, Action, Adventure                 5.0   \n",
       "2       \\nDrama, Horror, Thriller                 8.2   \n",
       "3  \\nAnimation, Adventure, Comedy                 9.2   \n",
       "4         \\nAction, Crime, Horror                 NaN   \n",
       "\n",
       "                                            ONE-LINE  \\\n",
       "0  \\nA woman with a mysterious illness is forced ...   \n",
       "1  \\nThe war for Eternia begins again in what may...   \n",
       "2  \\nSheriff Deputy Rick Grimes wakes up from a c...   \n",
       "3  \\nAn animated series that follows the exploits...   \n",
       "4  \\nA prequel, set before the events of Army of ...   \n",
       "\n",
       "                                               STARS    VOTES  RunTime  \n",
       "0  \\n    Director:\\nPeter Thorwarth\\n| \\n    Star...   21,062    121.0  \n",
       "1  \\n            \\n    Stars:\\nChris Wood, \\nSara...   17,870     25.0  \n",
       "2  \\n            \\n    Stars:\\nAndrew Lincoln, \\n...  885,805     44.0  \n",
       "3  \\n            \\n    Stars:\\nJustin Roiland, \\n...  414,849     23.0  \n",
       "4  \\n    Director:\\nMatthias Schweighöfer\\n| \\n  ...      NaN      NaN  "
      ]
     },
     "execution_count": 125,
     "metadata": {},
     "output_type": "execute_result"
    }
   ],
   "source": [
    "print(\"Updated DataFrame after dropping the 'Gross' column:\")\n",
    "movies_clean_df.head()"
   ]
  },
  {
   "cell_type": "markdown",
   "id": "6522490f-0230-4daf-93f8-7abfca5b8583",
   "metadata": {},
   "source": [
    "**4. Column \"YEAR\" type object\n",
    "<br>5. Column \"VOTES\" type object**\n",
    "\n",
    "<br>**Define**\n",
    "\n",
    "**For \"\"YEAR\"\"\n",
    "If you need the range to remain intact, keep it as an object (string).\n",
    "<br>If you need structured data for analysis, split into start_year and end_year columns with types as integers or datetime.**\n",
    "\n",
    "I decided to remain YEAR as an object type\n",
    "<br>Change the object type of column \"VOTES\" to float"
   ]
  },
  {
   "cell_type": "markdown",
   "id": "feacdf71-d4d0-4345-ae57-ef94de7f3aee",
   "metadata": {},
   "source": [
    "**Code**"
   ]
  },
  {
   "cell_type": "code",
   "execution_count": 141,
   "id": "041df723-0d71-4284-8b85-2fac9d60177d",
   "metadata": {},
   "outputs": [],
   "source": [
    "# Remove commas and convert to float\n",
    "movies_clean_df['VOTES'] = movies_clean_df['VOTES'].str.replace(',', '').astype(float)"
   ]
  },
  {
   "cell_type": "markdown",
   "id": "912f9152-0e35-41e4-a1fc-336de45193c3",
   "metadata": {},
   "source": [
    "**Test**"
   ]
  },
  {
   "cell_type": "code",
   "execution_count": 144,
   "id": "364ebc39-d2b1-4852-aebe-5135309b74d1",
   "metadata": {},
   "outputs": [
    {
     "name": "stdout",
     "output_type": "stream",
     "text": [
      "<class 'pandas.core.frame.DataFrame'>\n",
      "RangeIndex: 9999 entries, 0 to 9998\n",
      "Data columns (total 8 columns):\n",
      " #   Column    Non-Null Count  Dtype  \n",
      "---  ------    --------------  -----  \n",
      " 0   MOVIES    9999 non-null   object \n",
      " 1   YEAR      5148 non-null   object \n",
      " 2   GENRE     9919 non-null   object \n",
      " 3   RATING    8179 non-null   float64\n",
      " 4   ONE-LINE  9999 non-null   object \n",
      " 5   STARS     9999 non-null   object \n",
      " 6   VOTES     8179 non-null   float64\n",
      " 7   RunTime   7041 non-null   float64\n",
      "dtypes: float64(3), object(5)\n",
      "memory usage: 625.1+ KB\n"
     ]
    }
   ],
   "source": [
    "movies_clean_df.info()"
   ]
  },
  {
   "cell_type": "markdown",
   "id": "bd14e57b-4e9a-4a20-866d-99493a59f3bd",
   "metadata": {},
   "source": [
    "**6. Column \"MOVIES\" with identical movie names**\n",
    "\n",
    "**Define**\n",
    "\n",
    "Remove rows with identical names or Nan values"
   ]
  },
  {
   "cell_type": "markdown",
   "id": "2af6b0a5-6fae-4610-90c8-fc08920c3d98",
   "metadata": {},
   "source": [
    "**Code**"
   ]
  },
  {
   "cell_type": "code",
   "execution_count": 149,
   "id": "49d65bf4-d18e-4af5-bc8c-1d256f0977aa",
   "metadata": {},
   "outputs": [],
   "source": [
    "# Drop rows with NaN values in the \"MOVIES\" column\n",
    "movies_clean_df = movies_clean_df.dropna(subset=['MOVIES'])\n",
    "\n",
    "# Drop duplicate rows based on the \"MOVIES\" column, keeping the first occurrence\n",
    "movies_clean_df = movies_clean_df.drop_duplicates(subset=['MOVIES'], keep='first')"
   ]
  },
  {
   "cell_type": "markdown",
   "id": "7b683c94-3fa2-41b6-beb2-7c52e1e0a0b4",
   "metadata": {},
   "source": [
    "**Test**"
   ]
  },
  {
   "cell_type": "code",
   "execution_count": 168,
   "id": "aaa7dd15-2ac4-454c-91ed-fa95ee38ee20",
   "metadata": {},
   "outputs": [
    {
     "data": {
      "text/plain": [
       "5069           Joshua: Teenager vs. Superpower\n",
       "8815                                   Wizards\n",
       "897              The Day the Earth Stood Still\n",
       "2891            The Great Canadian Baking Show\n",
       "3197                                      Beef\n",
       "3493                                    Ánimas\n",
       "6382                         #differentnotless\n",
       "4572                              Death Note 2\n",
       "5651     Anthony Joshua: The Road to Klitschko\n",
       "2637                            Naeil Geudaewa\n",
       "5824           Russell Peters Versus the World\n",
       "975                           Secret Obsession\n",
       "4261                                Oh My Baby\n",
       "2733                                  Pramface\n",
       "3294    Quantum Quest: A Cassini Space Odyssey\n",
       "6001              Morgan Murphy: Irish Goodbye\n",
       "1162                                 Damnation\n",
       "1484                 My Babysitter's a Vampire\n",
       "5987                          Salem Abu Ukhtuh\n",
       "2307                            The Nailbomber\n",
       "Name: MOVIES, dtype: object"
      ]
     },
     "execution_count": 168,
     "metadata": {},
     "output_type": "execute_result"
    }
   ],
   "source": [
    "movies_clean_df[\"MOVIES\"].sample(20)"
   ]
  },
  {
   "cell_type": "markdown",
   "id": "6c25748e-0761-4d08-9015-93e4d47669d7",
   "metadata": {
    "jp-MarkdownHeadingCollapsed": true
   },
   "source": [
    "<h2>Storing Data</h2>\n",
    "\n",
    "Save gathered, assessed, and cleaned dataset to a CSV file named \"movies_cleaned.csv\"."
   ]
  },
  {
   "cell_type": "code",
   "execution_count": 171,
   "id": "b9044599-bf30-4573-9a46-e146cdb4d370",
   "metadata": {},
   "outputs": [],
   "source": [
    "movies_clean_df.to_csv(\"movies_cleaned.csv\")"
   ]
  },
  {
   "cell_type": "markdown",
   "id": "daa7e0c9-4753-4f2a-a998-a73b7b497d81",
   "metadata": {
    "jp-MarkdownHeadingCollapsed": true
   },
   "source": [
    "<h2>Analyzing and Visualizing Data</h2>"
   ]
  },
  {
   "cell_type": "code",
   "execution_count": 184,
   "id": "e247d7b0-08f1-44eb-9cea-6dc380c3c829",
   "metadata": {},
   "outputs": [],
   "source": [
    "import pandas as pd\n",
    "import seaborn as sns\n",
    "import matplotlib.pyplot as plt\n",
    "\n",
    "# Load the dataset\n",
    "movies_clean_df = pd.read_csv('movies_cleaned.csv')"
   ]
  },
  {
   "cell_type": "code",
   "execution_count": 188,
   "id": "9f29d213-2d99-43f0-a6e5-19b848023c88",
   "metadata": {},
   "outputs": [
    {
     "data": {
      "image/png": "[encoded data removed]",
      "text/plain": [
       "<Figure size 800x600 with 1 Axes>"
      ]
     },
     "metadata": {},
     "output_type": "display_data"
    }
   ],
   "source": [
    "# Histogram for RunTime column\n",
    "plt.figure(figsize=(8, 6))\n",
    "sns.histplot(\n",
    "    movies_clean_df[\"RunTime\"].dropna(),\n",
    "    bins=30,\n",
    "    kde=True,\n",
    "    color=\"skyblue\"\n",
    ")\n",
    "plt.title(\"Histogram of RunTime\", fontsize=14)\n",
    "plt.xlabel(\"RunTime (minutes)\", fontsize=12)\n",
    "plt.ylabel(\"Frequency\", fontsize=12)\n",
    "plt.show()"
   ]
  },
  {
   "cell_type": "code",
   "execution_count": 192,
   "id": "25cfca46-b057-4210-a5a7-5b32592d4d28",
   "metadata": {},
   "outputs": [
    {
     "data": {
      "image/png": "[encoded data removed]",
      "text/plain": [
       "<Figure size 800x600 with 1 Axes>"
      ]
     },
     "metadata": {},
     "output_type": "display_data"
    }
   ],
   "source": [
    "# Box plot for RunTime column\n",
    "plt.figure(figsize=(8, 6))\n",
    "sns.boxplot(\n",
    "    y=movies_clean_df[\"RunTime\"],\n",
    "    color=\"lightcoral\"\n",
    ")\n",
    "plt.title(\"Box Plot of RunTime\", fontsize=14)\n",
    "plt.ylabel(\"RunTime (minutes)\", fontsize=12)\n",
    "plt.show()"
   ]
  },
  {
   "cell_type": "markdown",
   "id": "8b640b09-a76c-413d-8785-0ae6a2751de3",
   "metadata": {},
   "source": [
    "**A lot of outliers here**"
   ]
  },
  {
   "cell_type": "code",
   "execution_count": 205,
   "id": "c21d055f-d261-4148-a792-4af0a98f7da5",
   "metadata": {},
   "outputs": [
    {
     "data": {
      "image/png": "[encoded data removed]",
      "text/plain": [
       "<Figure size 800x800 with 1 Axes>"
      ]
     },
     "metadata": {},
     "output_type": "display_data"
    }
   ],
   "source": [
    "# Pie chart for RATING categories\n",
    "rating_bins = [0, 3, 6, 9, 10]\n",
    "rating_labels = [\"Poor\", \"Average\", \"Good\", \"Excellent\"]\n",
    "movies_clean_df[\"Rating Category\"] = pd.cut(\n",
    "    movies_clean_df[\"RATING\"],\n",
    "    bins=rating_bins,\n",
    "    labels=rating_labels,\n",
    "    include_lowest=True\n",
    ")\n",
    "\n",
    "rating_counts = movies_clean_df[\"Rating Category\"].value_counts()\n",
    "\n",
    "plt.figure(figsize=(8, 8))\n",
    "rating_counts.plot.pie(\n",
    "    autopct='%1.1f%%',\n",
    "    colors=sns.color_palette(\"pastel\"),\n",
    "    startangle=140,\n",
    "    legend=True\n",
    ")\n",
    "plt.title(\"Rating Categories Distribution\", fontsize=14)\n",
    "plt.ylabel(\"\")  # Remove default y-axis label\n",
    "plt.show()"
   ]
  },
  {
   "cell_type": "markdown",
   "id": "9537a61b-cecc-4b65-a97a-d8f2af53678f",
   "metadata": {},
   "source": [
    "**Mostly Good Rating**"
   ]
  },
  {
   "cell_type": "markdown",
   "id": "befec5e3-ca3b-4024-8d3a-9071b9ac9bfd",
   "metadata": {},
   "source": [
    "**<h4>Insights</h4>**\n",
    "\n",
    "**1. Most of the people watch films for approximately 150 minutes(Which is wrong due to presence of outlierce)\n",
    "<br>2. A lot of outliers in the run time column \n",
    "<br>3. Movies have mostly Good Ratings**"
   ]
  },
  {
   "cell_type": "code",
   "execution_count": null,
   "id": "9fef3ebe-e548-4532-aeff-209f3dddc7dd",
   "metadata": {},
   "outputs": [],
   "source": []
  }
 ],
 "metadata": {
  "kernelspec": {
   "display_name": "Python 3 (ipykernel)",
   "language": "python",
   "name": "python3"
  },
  "language_info": {
   "codemirror_mode": {
    "name": "ipython",
    "version": 3
   },
   "file_extension": ".py",
   "mimetype": "text/x-python",
   "name": "python",
   "nbconvert_exporter": "python",
   "pygments_lexer": "ipython3",
   "version": "3.12.7"
  }
 },
 "nbformat": 4,
 "nbformat_minor": 5
}
