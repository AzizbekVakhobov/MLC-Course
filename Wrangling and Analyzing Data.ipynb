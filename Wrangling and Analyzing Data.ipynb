{
 "cells": [
  {
   "cell_type": "markdown",
   "id": "48c3149a-6376-42d3-892f-880b6e8887a0",
   "metadata": {},
   "source": [
    "<h1>Wrangling and Analyzing Data</h1>\n",
    "\n",
    "<h2>About Dataset</h2>\n",
    "The data is succesfully scrapped from imdb top netflix movies and tvshows.\n",
    "<br><a href=\"https://www.kaggle.com/datasets/hassanelfattmi/which-movie-should-i-watch-today\">Link to datasets from Kaggle</a>"
   ]
  },
  {
   "cell_type": "markdown",
   "id": "c1fb7956-86bc-4ba5-b2c6-6ed1041dc6fe",
   "metadata": {
    "jp-MarkdownHeadingCollapsed": true
   },
   "source": [
    "<h2>Data Gathering</h2>"
   ]
  },
  {
   "cell_type": "markdown",
   "id": "e666e6fa-89a9-4691-87c4-7f3b67b5d078",
   "metadata": {},
   "source": [
    "Directly download datasets(FilmDetails.csv, Movies.csv)"
   ]
  },
  {
   "cell_type": "code",
   "execution_count": 84,
   "id": "989667fe-e0df-45f3-85af-67ed5f18fbda",
   "metadata": {},
   "outputs": [],
   "source": [
    "import pandas as pd"
   ]
  },
  {
   "cell_type": "code",
   "execution_count": 86,
   "id": "2b8b961f-3af4-4aca-93ee-8427806bf794",
   "metadata": {},
   "outputs": [],
   "source": [
    "film_details_df = pd.read_csv('FilmDetails.csv')\n",
    "movies_df = pd.read_csv('Movies.csv')"
   ]
  },
  {
   "cell_type": "markdown",
   "id": "67168ad0-d861-4728-a12c-b924f000b94c",
   "metadata": {},
   "source": [
    "<h2>Assessing Data</h2>"
   ]
  },
  {
   "cell_type": "markdown",
   "id": "913a287f-7856-44de-9ead-c1e1c1ef7f4a",
   "metadata": {},
   "source": [
    "<h4>Film Details Table</h4>"
   ]
  },
  {
   "cell_type": "code",
   "execution_count": 17,
   "id": "13ce6c5c-634b-4128-8d8e-3aedef382dac",
   "metadata": {},
   "outputs": [
    {
     "data": {
      "text/html": [
       "<div>\n",
       "<style scoped>\n",
       "    .dataframe tbody tr th:only-of-type {\n",
       "        vertical-align: middle;\n",
       "    }\n",
       "\n",
       "    .dataframe tbody tr th {\n",
       "        vertical-align: top;\n",
       "    }\n",
       "\n",
       "    .dataframe thead th {\n",
       "        text-align: right;\n",
       "    }\n",
       "</style>\n",
       "<table border=\"1\" class=\"dataframe\">\n",
       "  <thead>\n",
       "    <tr style=\"text-align: right;\">\n",
       "      <th></th>\n",
       "      <th>id</th>\n",
       "      <th>director</th>\n",
       "      <th>top_billed</th>\n",
       "      <th>budget_usd</th>\n",
       "      <th>revenue_usd</th>\n",
       "    </tr>\n",
       "  </thead>\n",
       "  <tbody>\n",
       "    <tr>\n",
       "      <th>0</th>\n",
       "      <td>1</td>\n",
       "      <td>Frank Darabont</td>\n",
       "      <td>Tim Robbins, Morgan Freeman, Bob Gunton, Willi...</td>\n",
       "      <td>25000000.0</td>\n",
       "      <td>28341469.0</td>\n",
       "    </tr>\n",
       "    <tr>\n",
       "      <th>1</th>\n",
       "      <td>2</td>\n",
       "      <td>Francis Ford Coppola</td>\n",
       "      <td>Marlon Brando, Al Pacino, James Caan, Robert D...</td>\n",
       "      <td>6000000.0</td>\n",
       "      <td>245066411.0</td>\n",
       "    </tr>\n",
       "    <tr>\n",
       "      <th>2</th>\n",
       "      <td>3</td>\n",
       "      <td>Francis Ford Coppola</td>\n",
       "      <td>Al Pacino, Robert Duvall, Diane Keaton, Robert...</td>\n",
       "      <td>13000000.0</td>\n",
       "      <td>102600000.0</td>\n",
       "    </tr>\n",
       "    <tr>\n",
       "      <th>3</th>\n",
       "      <td>4</td>\n",
       "      <td>Steven Spielberg</td>\n",
       "      <td>Liam Neeson, Ben Kingsley, Ralph Fiennes, Caro...</td>\n",
       "      <td>22000000.0</td>\n",
       "      <td>321365567.0</td>\n",
       "    </tr>\n",
       "    <tr>\n",
       "      <th>4</th>\n",
       "      <td>5</td>\n",
       "      <td>Sidney Lumet</td>\n",
       "      <td>Martin Balsam, John Fiedler, Lee J. Cobb, E.G....</td>\n",
       "      <td>397751.0</td>\n",
       "      <td>4360000.0</td>\n",
       "    </tr>\n",
       "  </tbody>\n",
       "</table>\n",
       "</div>"
      ],
      "text/plain": [
       "   id              director  \\\n",
       "0   1        Frank Darabont   \n",
       "1   2  Francis Ford Coppola   \n",
       "2   3  Francis Ford Coppola   \n",
       "3   4      Steven Spielberg   \n",
       "4   5          Sidney Lumet   \n",
       "\n",
       "                                          top_billed  budget_usd  revenue_usd  \n",
       "0  Tim Robbins, Morgan Freeman, Bob Gunton, Willi...  25000000.0   28341469.0  \n",
       "1  Marlon Brando, Al Pacino, James Caan, Robert D...   6000000.0  245066411.0  \n",
       "2  Al Pacino, Robert Duvall, Diane Keaton, Robert...  13000000.0  102600000.0  \n",
       "3  Liam Neeson, Ben Kingsley, Ralph Fiennes, Caro...  22000000.0  321365567.0  \n",
       "4  Martin Balsam, John Fiedler, Lee J. Cobb, E.G....    397751.0    4360000.0  "
      ]
     },
     "execution_count": 17,
     "metadata": {},
     "output_type": "execute_result"
    }
   ],
   "source": [
    "film_details_df.head()"
   ]
  },
  {
   "cell_type": "code",
   "execution_count": 29,
   "id": "e022c1c4-626d-42f9-88f2-3febb3a3d486",
   "metadata": {},
   "outputs": [
    {
     "data": {
      "text/html": [
       "<div>\n",
       "<style scoped>\n",
       "    .dataframe tbody tr th:only-of-type {\n",
       "        vertical-align: middle;\n",
       "    }\n",
       "\n",
       "    .dataframe tbody tr th {\n",
       "        vertical-align: top;\n",
       "    }\n",
       "\n",
       "    .dataframe thead th {\n",
       "        text-align: right;\n",
       "    }\n",
       "</style>\n",
       "<table border=\"1\" class=\"dataframe\">\n",
       "  <thead>\n",
       "    <tr style=\"text-align: right;\">\n",
       "      <th></th>\n",
       "      <th>id</th>\n",
       "      <th>director</th>\n",
       "      <th>top_billed</th>\n",
       "      <th>budget_usd</th>\n",
       "      <th>revenue_usd</th>\n",
       "    </tr>\n",
       "  </thead>\n",
       "  <tbody>\n",
       "    <tr>\n",
       "      <th>5660</th>\n",
       "      <td>5661</td>\n",
       "      <td>Edoardo Falcone</td>\n",
       "      <td>Marco Giallini, Alessandro Gassmann, Laura Mor...</td>\n",
       "      <td>NaN</td>\n",
       "      <td>NaN</td>\n",
       "    </tr>\n",
       "    <tr>\n",
       "      <th>6843</th>\n",
       "      <td>6844</td>\n",
       "      <td>Seth Rogen</td>\n",
       "      <td>James Franco, Jonah Hill, Seth Rogen, Jay Baru...</td>\n",
       "      <td>32000000.0</td>\n",
       "      <td>126041322.0</td>\n",
       "    </tr>\n",
       "    <tr>\n",
       "      <th>1763</th>\n",
       "      <td>1764</td>\n",
       "      <td>Ryan Coogler</td>\n",
       "      <td>Michael B. Jordan, Melonie Diaz, Octavia Spenc...</td>\n",
       "      <td>900000.0</td>\n",
       "      <td>17600000.0</td>\n",
       "    </tr>\n",
       "    <tr>\n",
       "      <th>5928</th>\n",
       "      <td>5929</td>\n",
       "      <td>Matt Spicer</td>\n",
       "      <td>Aubrey Plaza, Elizabeth Olsen, O'Shea Jackson ...</td>\n",
       "      <td>NaN</td>\n",
       "      <td>24931915.0</td>\n",
       "    </tr>\n",
       "    <tr>\n",
       "      <th>185</th>\n",
       "      <td>186</td>\n",
       "      <td>Walter Salles</td>\n",
       "      <td>Fernanda Montenegro, Vinícius de Oliveira, Mar...</td>\n",
       "      <td>2900000.0</td>\n",
       "      <td>5596708.0</td>\n",
       "    </tr>\n",
       "    <tr>\n",
       "      <th>1770</th>\n",
       "      <td>1771</td>\n",
       "      <td>Baz Luhrmann</td>\n",
       "      <td>Leonardo DiCaprio, Tobey Maguire, Carey Mullig...</td>\n",
       "      <td>105000000.0</td>\n",
       "      <td>351040419.0</td>\n",
       "    </tr>\n",
       "    <tr>\n",
       "      <th>2419</th>\n",
       "      <td>2420</td>\n",
       "      <td>Sergio Corbucci</td>\n",
       "      <td>Franco Nero, José Bódalo, Loredana Nusciak, Án...</td>\n",
       "      <td>NaN</td>\n",
       "      <td>17277.0</td>\n",
       "    </tr>\n",
       "    <tr>\n",
       "      <th>7075</th>\n",
       "      <td>7076</td>\n",
       "      <td>Randal Kleiser</td>\n",
       "      <td>Brooke Shields, Christopher Atkins, Leo McKern...</td>\n",
       "      <td>4500000.0</td>\n",
       "      <td>58853106.0</td>\n",
       "    </tr>\n",
       "    <tr>\n",
       "      <th>3575</th>\n",
       "      <td>3576</td>\n",
       "      <td>Charles Martin Smith</td>\n",
       "      <td>Morgan Freeman, Ashley Judd, Harry Connick Jr....</td>\n",
       "      <td>37000000.0</td>\n",
       "      <td>95404397.0</td>\n",
       "    </tr>\n",
       "    <tr>\n",
       "      <th>5054</th>\n",
       "      <td>5055</td>\n",
       "      <td>Shinji Aramaki</td>\n",
       "      <td>Shun Oguri, Haruma Miura, Yu Aoi, Arata Furuta...</td>\n",
       "      <td>30000000.0</td>\n",
       "      <td>18010317.0</td>\n",
       "    </tr>\n",
       "  </tbody>\n",
       "</table>\n",
       "</div>"
      ],
      "text/plain": [
       "        id              director  \\\n",
       "5660  5661       Edoardo Falcone   \n",
       "6843  6844            Seth Rogen   \n",
       "1763  1764          Ryan Coogler   \n",
       "5928  5929           Matt Spicer   \n",
       "185    186         Walter Salles   \n",
       "1770  1771          Baz Luhrmann   \n",
       "2419  2420       Sergio Corbucci   \n",
       "7075  7076        Randal Kleiser   \n",
       "3575  3576  Charles Martin Smith   \n",
       "5054  5055        Shinji Aramaki   \n",
       "\n",
       "                                             top_billed   budget_usd  \\\n",
       "5660  Marco Giallini, Alessandro Gassmann, Laura Mor...          NaN   \n",
       "6843  James Franco, Jonah Hill, Seth Rogen, Jay Baru...   32000000.0   \n",
       "1763  Michael B. Jordan, Melonie Diaz, Octavia Spenc...     900000.0   \n",
       "5928  Aubrey Plaza, Elizabeth Olsen, O'Shea Jackson ...          NaN   \n",
       "185   Fernanda Montenegro, Vinícius de Oliveira, Mar...    2900000.0   \n",
       "1770  Leonardo DiCaprio, Tobey Maguire, Carey Mullig...  105000000.0   \n",
       "2419  Franco Nero, José Bódalo, Loredana Nusciak, Án...          NaN   \n",
       "7075  Brooke Shields, Christopher Atkins, Leo McKern...    4500000.0   \n",
       "3575  Morgan Freeman, Ashley Judd, Harry Connick Jr....   37000000.0   \n",
       "5054  Shun Oguri, Haruma Miura, Yu Aoi, Arata Furuta...   30000000.0   \n",
       "\n",
       "      revenue_usd  \n",
       "5660          NaN  \n",
       "6843  126041322.0  \n",
       "1763   17600000.0  \n",
       "5928   24931915.0  \n",
       "185     5596708.0  \n",
       "1770  351040419.0  \n",
       "2419      17277.0  \n",
       "7075   58853106.0  \n",
       "3575   95404397.0  \n",
       "5054   18010317.0  "
      ]
     },
     "execution_count": 29,
     "metadata": {},
     "output_type": "execute_result"
    }
   ],
   "source": [
    "film_details_df.sample(10)"
   ]
  },
  {
   "cell_type": "markdown",
   "id": "ec36d721-6068-4cf1-9d61-fac5fa7da4c0",
   "metadata": {},
   "source": [
    "**Missing values in \"budget_usd\" and \"revenue_usd\" attributes**"
   ]
  },
  {
   "cell_type": "code",
   "execution_count": 35,
   "id": "1cf2c26a-2767-496a-a112-d611832e9947",
   "metadata": {},
   "outputs": [
    {
     "name": "stdout",
     "output_type": "stream",
     "text": [
      "<class 'pandas.core.frame.DataFrame'>\n",
      "RangeIndex: 9718 entries, 0 to 9717\n",
      "Data columns (total 5 columns):\n",
      " #   Column       Non-Null Count  Dtype  \n",
      "---  ------       --------------  -----  \n",
      " 0   id           9718 non-null   int64  \n",
      " 1   director     9718 non-null   object \n",
      " 2   top_billed   9701 non-null   object \n",
      " 3   budget_usd   6737 non-null   float64\n",
      " 4   revenue_usd  7177 non-null   float64\n",
      "dtypes: float64(2), int64(1), object(2)\n",
      "memory usage: 379.7+ KB\n"
     ]
    }
   ],
   "source": [
    "film_details_df.info()"
   ]
  },
  {
   "cell_type": "code",
   "execution_count": 114,
   "id": "fcddaf6c-b1c9-4286-8056-b52292a2b83b",
   "metadata": {},
   "outputs": [
    {
     "data": {
      "text/plain": [
       "8919"
      ]
     },
     "execution_count": 114,
     "metadata": {},
     "output_type": "execute_result"
    }
   ],
   "source": [
    "sum(film_details_df[\"budget_usd\"].duplicated())"
   ]
  },
  {
   "cell_type": "code",
   "execution_count": 44,
   "id": "01d38065-24e6-49dc-b747-fd6c9a1a2326",
   "metadata": {},
   "outputs": [
    {
     "data": {
      "text/plain": [
       "3434"
      ]
     },
     "execution_count": 44,
     "metadata": {},
     "output_type": "execute_result"
    }
   ],
   "source": [
    "sum(film_details_df[\"revenue_usd\"].duplicated())"
   ]
  },
  {
   "cell_type": "code",
   "execution_count": 51,
   "id": "b21ced2c-89b8-4838-9e30-6c5c1d144a69",
   "metadata": {},
   "outputs": [
    {
     "data": {
      "text/plain": [
       "budget_usd\n",
       "20000000.0    276\n",
       "10000000.0    228\n",
       "30000000.0    226\n",
       "25000000.0    218\n",
       "15000000.0    217\n",
       "             ... \n",
       "104880.0        1\n",
       "46700000.0      1\n",
       "5200000.0       1\n",
       "1678000.0       1\n",
       "10000.0         1\n",
       "Name: count, Length: 798, dtype: int64"
      ]
     },
     "execution_count": 51,
     "metadata": {},
     "output_type": "execute_result"
    }
   ],
   "source": [
    "film_details_df[\"budget_usd\"].value_counts()"
   ]
  },
  {
   "cell_type": "code",
   "execution_count": 67,
   "id": "bce254b2-9632-4eba-911e-dabac9dd7727",
   "metadata": {},
   "outputs": [
    {
     "data": {
      "text/plain": [
       "director\n",
       "Woody Allen         47\n",
       "Steven Spielberg    37\n",
       "Clint Eastwood      36\n",
       "Alfred Hitchcock    31\n",
       "Ridley Scott        27\n",
       "                    ..\n",
       "Matthew Heineman     1\n",
       "Breno Silveira       1\n",
       "Antonia Bird         1\n",
       "Hamish Grieve        1\n",
       "James Nguyen         1\n",
       "Name: count, Length: 3978, dtype: int64"
      ]
     },
     "execution_count": 67,
     "metadata": {},
     "output_type": "execute_result"
    }
   ],
   "source": [
    "film_details_df['director'].value_counts()"
   ]
  },
  {
   "cell_type": "code",
   "execution_count": 69,
   "id": "3178af75-3be7-419e-ad13-63dd7acfb405",
   "metadata": {},
   "outputs": [
    {
     "data": {
      "text/html": [
       "<div>\n",
       "<style scoped>\n",
       "    .dataframe tbody tr th:only-of-type {\n",
       "        vertical-align: middle;\n",
       "    }\n",
       "\n",
       "    .dataframe tbody tr th {\n",
       "        vertical-align: top;\n",
       "    }\n",
       "\n",
       "    .dataframe thead th {\n",
       "        text-align: right;\n",
       "    }\n",
       "</style>\n",
       "<table border=\"1\" class=\"dataframe\">\n",
       "  <thead>\n",
       "    <tr style=\"text-align: right;\">\n",
       "      <th></th>\n",
       "      <th>id</th>\n",
       "      <th>budget_usd</th>\n",
       "      <th>revenue_usd</th>\n",
       "    </tr>\n",
       "  </thead>\n",
       "  <tbody>\n",
       "    <tr>\n",
       "      <th>count</th>\n",
       "      <td>9718.000000</td>\n",
       "      <td>6.737000e+03</td>\n",
       "      <td>7.177000e+03</td>\n",
       "    </tr>\n",
       "    <tr>\n",
       "      <th>mean</th>\n",
       "      <td>4859.500000</td>\n",
       "      <td>3.383723e+07</td>\n",
       "      <td>9.302323e+07</td>\n",
       "    </tr>\n",
       "    <tr>\n",
       "      <th>std</th>\n",
       "      <td>2805.489292</td>\n",
       "      <td>4.348576e+07</td>\n",
       "      <td>1.799382e+08</td>\n",
       "    </tr>\n",
       "    <tr>\n",
       "      <th>min</th>\n",
       "      <td>1.000000</td>\n",
       "      <td>2.000000e+03</td>\n",
       "      <td>3.491000e+03</td>\n",
       "    </tr>\n",
       "    <tr>\n",
       "      <th>25%</th>\n",
       "      <td>2430.250000</td>\n",
       "      <td>6.900000e+06</td>\n",
       "      <td>7.800000e+06</td>\n",
       "    </tr>\n",
       "    <tr>\n",
       "      <th>50%</th>\n",
       "      <td>4859.500000</td>\n",
       "      <td>1.900000e+07</td>\n",
       "      <td>3.112642e+07</td>\n",
       "    </tr>\n",
       "    <tr>\n",
       "      <th>75%</th>\n",
       "      <td>7288.750000</td>\n",
       "      <td>4.000000e+07</td>\n",
       "      <td>9.740000e+07</td>\n",
       "    </tr>\n",
       "    <tr>\n",
       "      <th>max</th>\n",
       "      <td>9718.000000</td>\n",
       "      <td>4.600000e+08</td>\n",
       "      <td>2.923706e+09</td>\n",
       "    </tr>\n",
       "  </tbody>\n",
       "</table>\n",
       "</div>"
      ],
      "text/plain": [
       "                id    budget_usd   revenue_usd\n",
       "count  9718.000000  6.737000e+03  7.177000e+03\n",
       "mean   4859.500000  3.383723e+07  9.302323e+07\n",
       "std    2805.489292  4.348576e+07  1.799382e+08\n",
       "min       1.000000  2.000000e+03  3.491000e+03\n",
       "25%    2430.250000  6.900000e+06  7.800000e+06\n",
       "50%    4859.500000  1.900000e+07  3.112642e+07\n",
       "75%    7288.750000  4.000000e+07  9.740000e+07\n",
       "max    9718.000000  4.600000e+08  2.923706e+09"
      ]
     },
     "execution_count": 69,
     "metadata": {},
     "output_type": "execute_result"
    }
   ],
   "source": [
    "film_details_df.describe()"
   ]
  },
  {
   "cell_type": "markdown",
   "id": "e73ec5b5-2e4e-4842-940e-52a975d1cafc",
   "metadata": {},
   "source": [
    "<h4>Movies Table</h4>"
   ]
  },
  {
   "cell_type": "code",
   "execution_count": 24,
   "id": "6ef935fc-fada-4d95-81a6-44fe5ebcfd1f",
   "metadata": {},
   "outputs": [
    {
     "data": {
      "text/html": [
       "<div>\n",
       "<style scoped>\n",
       "    .dataframe tbody tr th:only-of-type {\n",
       "        vertical-align: middle;\n",
       "    }\n",
       "\n",
       "    .dataframe tbody tr th {\n",
       "        vertical-align: top;\n",
       "    }\n",
       "\n",
       "    .dataframe thead th {\n",
       "        text-align: right;\n",
       "    }\n",
       "</style>\n",
       "<table border=\"1\" class=\"dataframe\">\n",
       "  <thead>\n",
       "    <tr style=\"text-align: right;\">\n",
       "      <th></th>\n",
       "      <th>id</th>\n",
       "      <th>title</th>\n",
       "      <th>genres</th>\n",
       "      <th>language</th>\n",
       "      <th>user_score</th>\n",
       "      <th>runtime_hour</th>\n",
       "      <th>runtime_min</th>\n",
       "      <th>release_date</th>\n",
       "      <th>vote_count</th>\n",
       "    </tr>\n",
       "  </thead>\n",
       "  <tbody>\n",
       "    <tr>\n",
       "      <th>0</th>\n",
       "      <td>1</td>\n",
       "      <td>The Shawshank Redemption</td>\n",
       "      <td>Drama, Crime</td>\n",
       "      <td>en</td>\n",
       "      <td>8.7</td>\n",
       "      <td>2</td>\n",
       "      <td>22</td>\n",
       "      <td>1994-09-23</td>\n",
       "      <td>27070</td>\n",
       "    </tr>\n",
       "    <tr>\n",
       "      <th>1</th>\n",
       "      <td>2</td>\n",
       "      <td>The Godfather</td>\n",
       "      <td>Drama, Crime</td>\n",
       "      <td>en</td>\n",
       "      <td>8.7</td>\n",
       "      <td>2</td>\n",
       "      <td>55</td>\n",
       "      <td>1972-03-14</td>\n",
       "      <td>20563</td>\n",
       "    </tr>\n",
       "    <tr>\n",
       "      <th>2</th>\n",
       "      <td>3</td>\n",
       "      <td>The Godfather Part II</td>\n",
       "      <td>Drama, Crime</td>\n",
       "      <td>en</td>\n",
       "      <td>8.6</td>\n",
       "      <td>3</td>\n",
       "      <td>22</td>\n",
       "      <td>1974-12-20</td>\n",
       "      <td>12403</td>\n",
       "    </tr>\n",
       "    <tr>\n",
       "      <th>3</th>\n",
       "      <td>4</td>\n",
       "      <td>Schindler's List</td>\n",
       "      <td>Drama, History, War</td>\n",
       "      <td>en</td>\n",
       "      <td>8.6</td>\n",
       "      <td>3</td>\n",
       "      <td>15</td>\n",
       "      <td>1993-12-15</td>\n",
       "      <td>15810</td>\n",
       "    </tr>\n",
       "    <tr>\n",
       "      <th>4</th>\n",
       "      <td>5</td>\n",
       "      <td>12 Angry Men</td>\n",
       "      <td>Drama</td>\n",
       "      <td>en</td>\n",
       "      <td>8.5</td>\n",
       "      <td>1</td>\n",
       "      <td>37</td>\n",
       "      <td>1957-04-10</td>\n",
       "      <td>8611</td>\n",
       "    </tr>\n",
       "  </tbody>\n",
       "</table>\n",
       "</div>"
      ],
      "text/plain": [
       "   id                     title               genres language  user_score  \\\n",
       "0   1  The Shawshank Redemption         Drama, Crime       en         8.7   \n",
       "1   2             The Godfather         Drama, Crime       en         8.7   \n",
       "2   3     The Godfather Part II         Drama, Crime       en         8.6   \n",
       "3   4          Schindler's List  Drama, History, War       en         8.6   \n",
       "4   5              12 Angry Men                Drama       en         8.5   \n",
       "\n",
       "   runtime_hour  runtime_min release_date  vote_count  \n",
       "0             2           22   1994-09-23       27070  \n",
       "1             2           55   1972-03-14       20563  \n",
       "2             3           22   1974-12-20       12403  \n",
       "3             3           15   1993-12-15       15810  \n",
       "4             1           37   1957-04-10        8611  "
      ]
     },
     "execution_count": 24,
     "metadata": {},
     "output_type": "execute_result"
    }
   ],
   "source": [
    "movies_df.head()"
   ]
  },
  {
   "cell_type": "code",
   "execution_count": 75,
   "id": "523a0e55-95f8-4490-aedd-dc4bf0b5432a",
   "metadata": {},
   "outputs": [
    {
     "data": {
      "text/html": [
       "<div>\n",
       "<style scoped>\n",
       "    .dataframe tbody tr th:only-of-type {\n",
       "        vertical-align: middle;\n",
       "    }\n",
       "\n",
       "    .dataframe tbody tr th {\n",
       "        vertical-align: top;\n",
       "    }\n",
       "\n",
       "    .dataframe thead th {\n",
       "        text-align: right;\n",
       "    }\n",
       "</style>\n",
       "<table border=\"1\" class=\"dataframe\">\n",
       "  <thead>\n",
       "    <tr style=\"text-align: right;\">\n",
       "      <th></th>\n",
       "      <th>id</th>\n",
       "      <th>user_score</th>\n",
       "      <th>runtime_hour</th>\n",
       "      <th>runtime_min</th>\n",
       "      <th>vote_count</th>\n",
       "    </tr>\n",
       "  </thead>\n",
       "  <tbody>\n",
       "    <tr>\n",
       "      <th>count</th>\n",
       "      <td>9718.000000</td>\n",
       "      <td>9718.000000</td>\n",
       "      <td>9718.000000</td>\n",
       "      <td>9718.000000</td>\n",
       "      <td>9718.000000</td>\n",
       "    </tr>\n",
       "    <tr>\n",
       "      <th>mean</th>\n",
       "      <td>4859.500000</td>\n",
       "      <td>6.633268</td>\n",
       "      <td>1.200556</td>\n",
       "      <td>33.750463</td>\n",
       "      <td>1982.468821</td>\n",
       "    </tr>\n",
       "    <tr>\n",
       "      <th>std</th>\n",
       "      <td>2805.489292</td>\n",
       "      <td>0.783489</td>\n",
       "      <td>0.463344</td>\n",
       "      <td>15.679806</td>\n",
       "      <td>3135.105153</td>\n",
       "    </tr>\n",
       "    <tr>\n",
       "      <th>min</th>\n",
       "      <td>1.000000</td>\n",
       "      <td>2.200000</td>\n",
       "      <td>0.000000</td>\n",
       "      <td>0.000000</td>\n",
       "      <td>300.000000</td>\n",
       "    </tr>\n",
       "    <tr>\n",
       "      <th>25%</th>\n",
       "      <td>2430.250000</td>\n",
       "      <td>6.100000</td>\n",
       "      <td>1.000000</td>\n",
       "      <td>25.000000</td>\n",
       "      <td>468.000000</td>\n",
       "    </tr>\n",
       "    <tr>\n",
       "      <th>50%</th>\n",
       "      <td>4859.500000</td>\n",
       "      <td>6.700000</td>\n",
       "      <td>1.000000</td>\n",
       "      <td>36.000000</td>\n",
       "      <td>841.500000</td>\n",
       "    </tr>\n",
       "    <tr>\n",
       "      <th>75%</th>\n",
       "      <td>7288.750000</td>\n",
       "      <td>7.200000</td>\n",
       "      <td>1.000000</td>\n",
       "      <td>46.000000</td>\n",
       "      <td>1971.000000</td>\n",
       "    </tr>\n",
       "    <tr>\n",
       "      <th>max</th>\n",
       "      <td>9718.000000</td>\n",
       "      <td>8.700000</td>\n",
       "      <td>6.000000</td>\n",
       "      <td>59.000000</td>\n",
       "      <td>36495.000000</td>\n",
       "    </tr>\n",
       "  </tbody>\n",
       "</table>\n",
       "</div>"
      ],
      "text/plain": [
       "                id   user_score  runtime_hour  runtime_min    vote_count\n",
       "count  9718.000000  9718.000000   9718.000000  9718.000000   9718.000000\n",
       "mean   4859.500000     6.633268      1.200556    33.750463   1982.468821\n",
       "std    2805.489292     0.783489      0.463344    15.679806   3135.105153\n",
       "min       1.000000     2.200000      0.000000     0.000000    300.000000\n",
       "25%    2430.250000     6.100000      1.000000    25.000000    468.000000\n",
       "50%    4859.500000     6.700000      1.000000    36.000000    841.500000\n",
       "75%    7288.750000     7.200000      1.000000    46.000000   1971.000000\n",
       "max    9718.000000     8.700000      6.000000    59.000000  36495.000000"
      ]
     },
     "execution_count": 75,
     "metadata": {},
     "output_type": "execute_result"
    }
   ],
   "source": [
    "movies_df.describe()"
   ]
  },
  {
   "cell_type": "code",
   "execution_count": 77,
   "id": "2e5c7b8a-45ca-4c55-8fd1-e6552db73168",
   "metadata": {},
   "outputs": [
    {
     "data": {
      "text/plain": [
       "0       False\n",
       "1       False\n",
       "2       False\n",
       "3       False\n",
       "4       False\n",
       "        ...  \n",
       "9713    False\n",
       "9714    False\n",
       "9715    False\n",
       "9716    False\n",
       "9717    False\n",
       "Length: 9718, dtype: bool"
      ]
     },
     "execution_count": 77,
     "metadata": {},
     "output_type": "execute_result"
    }
   ],
   "source": [
    "movies_df.duplicated()"
   ]
  },
  {
   "cell_type": "code",
   "execution_count": 79,
   "id": "532955a6-738d-460a-9f92-9d339056289a",
   "metadata": {},
   "outputs": [
    {
     "name": "stdout",
     "output_type": "stream",
     "text": [
      "<class 'pandas.core.frame.DataFrame'>\n",
      "RangeIndex: 9718 entries, 0 to 9717\n",
      "Data columns (total 9 columns):\n",
      " #   Column        Non-Null Count  Dtype  \n",
      "---  ------        --------------  -----  \n",
      " 0   id            9718 non-null   int64  \n",
      " 1   title         9718 non-null   object \n",
      " 2   genres        9718 non-null   object \n",
      " 3   language      9718 non-null   object \n",
      " 4   user_score    9718 non-null   float64\n",
      " 5   runtime_hour  9718 non-null   int64  \n",
      " 6   runtime_min   9718 non-null   int64  \n",
      " 7   release_date  9718 non-null   object \n",
      " 8   vote_count    9718 non-null   int64  \n",
      "dtypes: float64(1), int64(4), object(4)\n",
      "memory usage: 683.4+ KB\n"
     ]
    }
   ],
   "source": [
    "movies_df.info()"
   ]
  },
  {
   "cell_type": "markdown",
   "id": "6baac644-df2c-4925-9f57-ef1fbc6fa1f3",
   "metadata": {},
   "source": [
    "**\"release_date\" object type**"
   ]
  },
  {
   "cell_type": "code",
   "execution_count": 106,
   "id": "64411e02-c8b8-4639-93fb-daec7c07aa7a",
   "metadata": {},
   "outputs": [
    {
     "data": {
      "text/plain": [
       "vote_count\n",
       "342     27\n",
       "310     25\n",
       "360     25\n",
       "312     23\n",
       "327     23\n",
       "        ..\n",
       "6641     1\n",
       "5506     1\n",
       "3430     1\n",
       "6659     1\n",
       "1023     1\n",
       "Name: count, Length: 3488, dtype: int64"
      ]
     },
     "execution_count": 106,
     "metadata": {},
     "output_type": "execute_result"
    }
   ],
   "source": [
    "movies_df[\"vote_count\"].value_counts()"
   ]
  },
  {
   "cell_type": "markdown",
   "id": "7baeb2d8-e63a-4171-bde5-50a010ce9e4f",
   "metadata": {},
   "source": [
    "<h4>Quality issues</h4>\n",
    "<h5>FilmDetails Table</h5> "
   ]
  },
  {
   "cell_type": "markdown",
   "id": "9540fe3a-ce89-4d45-b362-25207667d8a9",
   "metadata": {},
   "source": [
    "1. Missing values in \"budget_usd\" and \"revenue_usd\" attributes"
   ]
  },
  {
   "cell_type": "markdown",
   "id": "28896e3d-383e-4732-acc8-e23150074e25",
   "metadata": {},
   "source": [
    "<h5>Movies Table</h5>"
   ]
  },
  {
   "cell_type": "markdown",
   "id": "747590ba-00f0-471c-bf58-78d84baa8327",
   "metadata": {},
   "source": [
    "1. \"release_date\" object type"
   ]
  },
  {
   "cell_type": "markdown",
   "id": "55a2337e-90ab-452a-a534-96b759415f22",
   "metadata": {
    "jp-MarkdownHeadingCollapsed": true
   },
   "source": [
    "<h2>Cleaning Data</h2>"
   ]
  },
  {
   "cell_type": "markdown",
   "id": "1f5731cc-1492-4bba-bc2e-4bdeeb267b76",
   "metadata": {},
   "source": [
    "<h4>Film Details Table</h4>"
   ]
  },
  {
   "cell_type": "markdown",
   "id": "11bd402e-c217-4b92-8ec8-5ff2eda7c31b",
   "metadata": {},
   "source": [
    "<h5>Issue #1: Missing values in \"budget_usd\" and \"revenue_usd\" attributes</h5>\n",
    "<h5>Code</h5>"
   ]
  },
  {
   "cell_type": "code",
   "execution_count": 159,
   "id": "3ee3a039-7528-4ce3-85a4-aaf743545a5c",
   "metadata": {},
   "outputs": [],
   "source": [
    "film_details_df['budget_usd'] = film_details_df['budget_usd'].fillna(film_details_df['budget_usd'].mean())\n",
    "film_details_df['revenue_usd'] = film_details_df['revenue_usd'].fillna(film_details_df['revenue_usd'].mean())"
   ]
  },
  {
   "cell_type": "markdown",
   "id": "ce293277-00bd-47b4-adfd-b840bb3e5a2e",
   "metadata": {},
   "source": [
    "<h5>Test</h5>"
   ]
  },
  {
   "cell_type": "code",
   "execution_count": 152,
   "id": "fa7138e5-64c3-44a5-9fa4-1395b2d2c81e",
   "metadata": {},
   "outputs": [
    {
     "name": "stdout",
     "output_type": "stream",
     "text": [
      "budget_usd     0\n",
      "revenue_usd    0\n",
      "dtype: int64\n"
     ]
    }
   ],
   "source": [
    "print(film_details_df[['budget_usd', 'revenue_usd']].isnull().sum())"
   ]
  },
  {
   "cell_type": "markdown",
   "id": "77bf057d-86de-420c-b5c8-bfe01c4a3be6",
   "metadata": {},
   "source": [
    "<h4>Movies Table</h4>"
   ]
  },
  {
   "cell_type": "markdown",
   "id": "68f00922-e530-4a06-ac2d-1ec6d1f10a59",
   "metadata": {},
   "source": [
    "<h5>Issue #1: \"release_date\" object type</h5>\n",
    "<h5>Code</h5>"
   ]
  },
  {
   "cell_type": "code",
   "execution_count": 172,
   "id": "6d80f917-9c00-4673-ad72-362a5d489623",
   "metadata": {},
   "outputs": [],
   "source": [
    "movies_df['release_date'] = pd.to_datetime(movies_df['release_date'])"
   ]
  },
  {
   "cell_type": "markdown",
   "id": "b9fc153e-d769-4024-a2d3-c88886c1ae43",
   "metadata": {},
   "source": [
    "<h5>Test</h5>"
   ]
  },
  {
   "cell_type": "code",
   "execution_count": 174,
   "id": "0cfde319-6cd1-4b7c-ac24-d83f2bfe087e",
   "metadata": {},
   "outputs": [
    {
     "name": "stdout",
     "output_type": "stream",
     "text": [
      "<class 'pandas.core.frame.DataFrame'>\n",
      "RangeIndex: 9718 entries, 0 to 9717\n",
      "Data columns (total 9 columns):\n",
      " #   Column        Non-Null Count  Dtype         \n",
      "---  ------        --------------  -----         \n",
      " 0   id            9718 non-null   int64         \n",
      " 1   title         9718 non-null   object        \n",
      " 2   genres        9718 non-null   object        \n",
      " 3   language      9718 non-null   object        \n",
      " 4   user_score    9718 non-null   float64       \n",
      " 5   runtime_hour  9718 non-null   int64         \n",
      " 6   runtime_min   9718 non-null   int64         \n",
      " 7   release_date  9718 non-null   datetime64[ns]\n",
      " 8   vote_count    9718 non-null   int64         \n",
      "dtypes: datetime64[ns](1), float64(1), int64(4), object(3)\n",
      "memory usage: 683.4+ KB\n"
     ]
    }
   ],
   "source": [
    "movies_df.info()"
   ]
  },
  {
   "cell_type": "markdown",
   "id": "4e2e45e7-f203-4b2c-9b00-246701f6f0ea",
   "metadata": {},
   "source": [
    "<h2>Storing Data</h2>"
   ]
  },
  {
   "cell_type": "code",
   "execution_count": 177,
   "id": "6e7b41c7-da95-4749-b4b3-24629aa77f97",
   "metadata": {},
   "outputs": [],
   "source": [
    "film_details_df.to_csv('CleanedFilmDetails.csv')\n",
    "movies_df.to_csv('CleanedMovies.csv')"
   ]
  },
  {
   "cell_type": "code",
   "execution_count": null,
   "id": "7d26495e-3f6c-44cb-ac7a-b2b24481d4a4",
   "metadata": {},
   "outputs": [],
   "source": []
  }
 ],
 "metadata": {
  "kernelspec": {
   "display_name": "Python 3 (ipykernel)",
   "language": "python",
   "name": "python3"
  },
  "language_info": {
   "codemirror_mode": {
    "name": "ipython",
    "version": 3
   },
   "file_extension": ".py",
   "mimetype": "text/x-python",
   "name": "python",
   "nbconvert_exporter": "python",
   "pygments_lexer": "ipython3",
   "version": "3.12.7"
  }
 },
 "nbformat": 4,
 "nbformat_minor": 5
}
