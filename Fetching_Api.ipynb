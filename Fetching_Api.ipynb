{
 "cells": [
  {
   "cell_type": "markdown",
   "id": "452e9d46-483d-4c78-9cc8-8474a344f169",
   "metadata": {},
   "source": [
    "<h1>Assignment</h1>"
   ]
  },
  {
   "cell_type": "markdown",
   "id": "07d5f5f5-c9de-44c0-a9dc-ae1c8cf25776",
   "metadata": {},
   "source": [
    "<h3>1. Fetch the dataset from the given API:</h3>"
   ]
  },
  {
   "cell_type": "code",
   "execution_count": 38,
   "id": "4b8cacb3-672a-45b7-8bcb-73bd3a2372d9",
   "metadata": {},
   "outputs": [
    {
     "name": "stdout",
     "output_type": "stream",
     "text": [
      "{'coord': {'lon': 69.2163, 'lat': 41.2646}, 'weather': [{'id': 800, 'main': 'Clear', 'description': 'clear sky', 'icon': '01d'}], 'base': 'stations', 'main': {'temp': 280.12, 'feels_like': 280.12, 'temp_min': 280.12, 'temp_max': 280.12, 'pressure': 1028, 'humidity': 31, 'sea_level': 1028, 'grnd_level': 976}, 'visibility': 7000, 'wind': {'speed': 1.03, 'deg': 0}, 'clouds': {'all': 0}, 'dt': 1735026669, 'sys': {'type': 1, 'id': 9016, 'country': 'UZ', 'sunrise': 1735008411, 'sunset': 1735041514}, 'timezone': 18000, 'id': 1512569, 'name': 'Tashkent', 'cod': 200}\n"
     ]
    }
   ],
   "source": [
    "import requests\n",
    "\n",
    "url = \"https://api.openweathermap.org/data/2.5/weather?q=Tashkent&appid=39bc6b0b4da0297d016c9daa5e253949\"\n",
    "\n",
    "response = requests.get(url)\n",
    "\n",
    "if response.status_code == 200:\n",
    "    data = response.json()\n",
    "    print(data)\n",
    "else:\n",
    "    print(\"Error\", response.status_code)"
   ]
  },
  {
   "cell_type": "markdown",
   "id": "4201fb66-0980-4d2c-8fe5-a4d057ed2b2b",
   "metadata": {},
   "source": [
    "<h3>2. SQL Table</h3>"
   ]
  },
  {
   "cell_type": "code",
   "execution_count": 59,
   "id": "cf4decc4-5d0d-4380-a0da-782b7a4e2211",
   "metadata": {},
   "outputs": [
    {
     "name": "stdout",
     "output_type": "stream",
     "text": [
      "Table: Customers\n"
     ]
    },
    {
     "data": {
      "text/html": [
       "<div>\n",
       "<style scoped>\n",
       "    .dataframe tbody tr th:only-of-type {\n",
       "        vertical-align: middle;\n",
       "    }\n",
       "\n",
       "    .dataframe tbody tr th {\n",
       "        vertical-align: top;\n",
       "    }\n",
       "\n",
       "    .dataframe thead th {\n",
       "        text-align: right;\n",
       "    }\n",
       "</style>\n",
       "<table border=\"1\" class=\"dataframe\">\n",
       "  <thead>\n",
       "    <tr style=\"text-align: right;\">\n",
       "      <th></th>\n",
       "      <th>CustomerID</th>\n",
       "      <th>Name</th>\n",
       "      <th>Age</th>\n",
       "      <th>Country</th>\n",
       "    </tr>\n",
       "  </thead>\n",
       "  <tbody>\n",
       "    <tr>\n",
       "      <th>0</th>\n",
       "      <td>1</td>\n",
       "      <td>Kamron</td>\n",
       "      <td>28</td>\n",
       "      <td>USA</td>\n",
       "    </tr>\n",
       "    <tr>\n",
       "      <th>1</th>\n",
       "      <td>2</td>\n",
       "      <td>Ruslan</td>\n",
       "      <td>34</td>\n",
       "      <td>UK</td>\n",
       "    </tr>\n",
       "    <tr>\n",
       "      <th>2</th>\n",
       "      <td>3</td>\n",
       "      <td>AliKhan</td>\n",
       "      <td>29</td>\n",
       "      <td>Pakistan</td>\n",
       "    </tr>\n",
       "  </tbody>\n",
       "</table>\n",
       "</div>"
      ],
      "text/plain": [
       "   CustomerID     Name  Age   Country\n",
       "0           1   Kamron   28       USA\n",
       "1           2   Ruslan   34        UK\n",
       "2           3  AliKhan   29  Pakistan"
      ]
     },
     "metadata": {},
     "output_type": "display_data"
    },
    {
     "name": "stdout",
     "output_type": "stream",
     "text": [
      "Table: Orders\n"
     ]
    },
    {
     "data": {
      "text/html": [
       "<div>\n",
       "<style scoped>\n",
       "    .dataframe tbody tr th:only-of-type {\n",
       "        vertical-align: middle;\n",
       "    }\n",
       "\n",
       "    .dataframe tbody tr th {\n",
       "        vertical-align: top;\n",
       "    }\n",
       "\n",
       "    .dataframe thead th {\n",
       "        text-align: right;\n",
       "    }\n",
       "</style>\n",
       "<table border=\"1\" class=\"dataframe\">\n",
       "  <thead>\n",
       "    <tr style=\"text-align: right;\">\n",
       "      <th></th>\n",
       "      <th>OrderID</th>\n",
       "      <th>CustomerID</th>\n",
       "      <th>Product</th>\n",
       "      <th>Quantity</th>\n",
       "    </tr>\n",
       "  </thead>\n",
       "  <tbody>\n",
       "    <tr>\n",
       "      <th>0</th>\n",
       "      <td>1</td>\n",
       "      <td>1</td>\n",
       "      <td>Laptop</td>\n",
       "      <td>1</td>\n",
       "    </tr>\n",
       "    <tr>\n",
       "      <th>1</th>\n",
       "      <td>2</td>\n",
       "      <td>2</td>\n",
       "      <td>Smartphone</td>\n",
       "      <td>2</td>\n",
       "    </tr>\n",
       "    <tr>\n",
       "      <th>2</th>\n",
       "      <td>3</td>\n",
       "      <td>3</td>\n",
       "      <td>Headphones</td>\n",
       "      <td>5</td>\n",
       "    </tr>\n",
       "  </tbody>\n",
       "</table>\n",
       "</div>"
      ],
      "text/plain": [
       "   OrderID  CustomerID     Product  Quantity\n",
       "0        1           1      Laptop         1\n",
       "1        2           2  Smartphone         2\n",
       "2        3           3  Headphones         5"
      ]
     },
     "metadata": {},
     "output_type": "display_data"
    },
    {
     "name": "stdout",
     "output_type": "stream",
     "text": [
      "Table: Payments\n"
     ]
    },
    {
     "data": {
      "text/html": [
       "<div>\n",
       "<style scoped>\n",
       "    .dataframe tbody tr th:only-of-type {\n",
       "        vertical-align: middle;\n",
       "    }\n",
       "\n",
       "    .dataframe tbody tr th {\n",
       "        vertical-align: top;\n",
       "    }\n",
       "\n",
       "    .dataframe thead th {\n",
       "        text-align: right;\n",
       "    }\n",
       "</style>\n",
       "<table border=\"1\" class=\"dataframe\">\n",
       "  <thead>\n",
       "    <tr style=\"text-align: right;\">\n",
       "      <th></th>\n",
       "      <th>PaymentID</th>\n",
       "      <th>OrderID</th>\n",
       "      <th>PaymentAmount</th>\n",
       "      <th>PaymentDate</th>\n",
       "    </tr>\n",
       "  </thead>\n",
       "  <tbody>\n",
       "    <tr>\n",
       "      <th>0</th>\n",
       "      <td>1</td>\n",
       "      <td>1</td>\n",
       "      <td>1000.50</td>\n",
       "      <td>2024-12-20</td>\n",
       "    </tr>\n",
       "    <tr>\n",
       "      <th>1</th>\n",
       "      <td>2</td>\n",
       "      <td>2</td>\n",
       "      <td>1500.00</td>\n",
       "      <td>2024-12-21</td>\n",
       "    </tr>\n",
       "    <tr>\n",
       "      <th>2</th>\n",
       "      <td>3</td>\n",
       "      <td>3</td>\n",
       "      <td>250.75</td>\n",
       "      <td>2024-12-22</td>\n",
       "    </tr>\n",
       "  </tbody>\n",
       "</table>\n",
       "</div>"
      ],
      "text/plain": [
       "   PaymentID  OrderID  PaymentAmount PaymentDate\n",
       "0          1        1        1000.50  2024-12-20\n",
       "1          2        2        1500.00  2024-12-21\n",
       "2          3        3         250.75  2024-12-22"
      ]
     },
     "metadata": {},
     "output_type": "display_data"
    }
   ],
   "source": [
    "import sqlite3\n",
    "import pandas as pd\n",
    "\n",
    "\n",
    "conn = sqlite3.connect('tables.db')\n",
    "cursor = conn.cursor()\n",
    "\n",
    "# Create three tables\n",
    "cursor.execute('''\n",
    "CREATE TABLE IF NOT EXISTS Customers (\n",
    "    CustomerID INTEGER PRIMARY KEY AUTOINCREMENT,\n",
    "    Name TEXT NOT NULL,\n",
    "    Age INTEGER NOT NULL,\n",
    "    Country TEXT NOT NULL\n",
    ")\n",
    "''')\n",
    "\n",
    "cursor.execute('''\n",
    "CREATE TABLE IF NOT EXISTS Orders (\n",
    "    OrderID INTEGER PRIMARY KEY AUTOINCREMENT,\n",
    "    CustomerID INTEGER NOT NULL,\n",
    "    Product TEXT NOT NULL,\n",
    "    Quantity INTEGER NOT NULL\n",
    ")\n",
    "''')\n",
    "\n",
    "cursor.execute('''\n",
    "CREATE TABLE IF NOT EXISTS Payments (\n",
    "    PaymentID INTEGER PRIMARY KEY AUTOINCREMENT,\n",
    "    OrderID INTEGER NOT NULL,\n",
    "    PaymentAmount REAL NOT NULL,\n",
    "    PaymentDate TEXT NOT NULL\n",
    ")\n",
    "''')\n",
    "\n",
    "\n",
    "cursor.executemany('''\n",
    "INSERT INTO Customers (Name, Age, Country) VALUES (?, ?, ?)\n",
    "''', [\n",
    "    ('Kamron', 28, 'USA'),\n",
    "    ('Ruslan', 34, 'UK'),\n",
    "    ('AliKhan', 29, 'Pakistan')\n",
    "])\n",
    "\n",
    "\n",
    "cursor.executemany('''\n",
    "INSERT INTO Orders (CustomerID, Product, Quantity) VALUES (?, ?, ?)\n",
    "''', [\n",
    "    (1, 'Laptop', 1),\n",
    "    (2, 'Smartphone', 2),\n",
    "    (3, 'Headphones', 5)\n",
    "])\n",
    "\n",
    "\n",
    "cursor.executemany('''\n",
    "INSERT INTO Payments (OrderID, PaymentAmount, PaymentDate) VALUES (?, ?, ?)\n",
    "''', [\n",
    "    (1, 1000.50, '2024-12-20'),\n",
    "    (2, 1500.00, '2024-12-21'),\n",
    "    (3, 250.75, '2024-12-22')\n",
    "])\n",
    "\n",
    "\n",
    "conn.commit()\n",
    "\n",
    "\n",
    "def display_table(table_name):\n",
    "    df = pd.read_sql_query(f\"SELECT * FROM {table_name}\", conn)\n",
    "    print(f\"Table: {table_name}\")\n",
    "    display(df)\n",
    "\n",
    "\n",
    "display_table('Customers')\n",
    "display_table('Orders')\n",
    "display_table('Payments')\n",
    "\n",
    "\n",
    "conn.close()\n"
   ]
  },
  {
   "cell_type": "markdown",
   "id": "1d886d68-9ac0-42d2-abdd-7f5e1b24c84b",
   "metadata": {},
   "source": [
    "<h3>3. Reverse-engineer the database schema</h3>"
   ]
  },
  {
   "cell_type": "code",
   "execution_count": 61,
   "id": "1711f270-5382-4369-bc3e-099be34f7fde",
   "metadata": {},
   "outputs": [
    {
     "data": {
      "image/png": "[encoded data removed]",
      "text/plain": [
       "<IPython.core.display.Image object>"
      ]
     },
     "execution_count": 61,
     "metadata": {},
     "output_type": "execute_result"
    }
   ],
   "source": [
    "from IPython.display import Image\n",
    "Image('reverse-engineer.png')"
   ]
  },
  {
   "cell_type": "code",
   "execution_count": null,
   "id": "20deef61-2dd7-4432-9c9d-53726b4f13d2",
   "metadata": {},
   "outputs": [],
   "source": []
  }
 ],
 "metadata": {
  "kernelspec": {
   "display_name": "Python 3 (ipykernel)",
   "language": "python",
   "name": "python3"
  },
  "language_info": {
   "codemirror_mode": {
    "name": "ipython",
    "version": 3
   },
   "file_extension": ".py",
   "mimetype": "text/x-python",
   "name": "python",
   "nbconvert_exporter": "python",
   "pygments_lexer": "ipython3",
   "version": "3.12.7"
  }
 },
 "nbformat": 4,
 "nbformat_minor": 5
}
